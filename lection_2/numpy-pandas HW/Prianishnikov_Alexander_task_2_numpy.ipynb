{
  "nbformat": 4,
  "nbformat_minor": 0,
  "metadata": {
    "kernelspec": {
      "display_name": "Python 3",
      "language": "python",
      "name": "python3"
    },
    "language_info": {
      "codemirror_mode": {
        "name": "ipython",
        "version": 3
      },
      "file_extension": ".py",
      "mimetype": "text/x-python",
      "name": "python",
      "nbconvert_exporter": "python",
      "pygments_lexer": "ipython3",
      "version": "3.6.4"
    },
    "colab": {
      "name": "Prianishnikov_Alexander_task_2_numpy.ipynb",
      "provenance": [],
      "collapsed_sections": []
    }
  },
  "cells": [
    {
      "cell_type": "code",
      "metadata": {
        "id": "McIuG6pxA9qK"
      },
      "source": [
        "import numpy as np"
      ],
      "execution_count": 1,
      "outputs": []
    },
    {
      "cell_type": "markdown",
      "metadata": {
        "id": "fwT3W3cZcPbL"
      },
      "source": [
        "# Numpy"
      ]
    },
    {
      "cell_type": "markdown",
      "metadata": {
        "id": "4s1bMzefcPbP"
      },
      "source": [
        "#### 1.Создать вектор (одномерный массив) размера 100, заполненный нулями"
      ]
    },
    {
      "cell_type": "code",
      "metadata": {
        "id": "nkJIQ1WqcPbP",
        "colab": {
          "base_uri": "https://localhost:8080/"
        },
        "outputId": "b5b8091b-115c-46f2-d476-5ba7ac9ec123"
      },
      "source": [
        "np.zeros(shape = (100))"
      ],
      "execution_count": 2,
      "outputs": [
        {
          "output_type": "execute_result",
          "data": {
            "text/plain": [
              "array([0., 0., 0., 0., 0., 0., 0., 0., 0., 0., 0., 0., 0., 0., 0., 0., 0.,\n",
              "       0., 0., 0., 0., 0., 0., 0., 0., 0., 0., 0., 0., 0., 0., 0., 0., 0.,\n",
              "       0., 0., 0., 0., 0., 0., 0., 0., 0., 0., 0., 0., 0., 0., 0., 0., 0.,\n",
              "       0., 0., 0., 0., 0., 0., 0., 0., 0., 0., 0., 0., 0., 0., 0., 0., 0.,\n",
              "       0., 0., 0., 0., 0., 0., 0., 0., 0., 0., 0., 0., 0., 0., 0., 0., 0.,\n",
              "       0., 0., 0., 0., 0., 0., 0., 0., 0., 0., 0., 0., 0., 0., 0.])"
            ]
          },
          "metadata": {},
          "execution_count": 2
        }
      ]
    },
    {
      "cell_type": "markdown",
      "metadata": {
        "id": "euGM1HuncPbQ"
      },
      "source": [
        "#### 2.Создать вектор размера 100, заполненный единицами"
      ]
    },
    {
      "cell_type": "code",
      "metadata": {
        "id": "XMt3XqQIcPbQ",
        "colab": {
          "base_uri": "https://localhost:8080/"
        },
        "outputId": "66fae6e6-52e4-42ee-92ec-a790b52ae1ae"
      },
      "source": [
        "np.ones(shape = (100))"
      ],
      "execution_count": 3,
      "outputs": [
        {
          "output_type": "execute_result",
          "data": {
            "text/plain": [
              "array([1., 1., 1., 1., 1., 1., 1., 1., 1., 1., 1., 1., 1., 1., 1., 1., 1.,\n",
              "       1., 1., 1., 1., 1., 1., 1., 1., 1., 1., 1., 1., 1., 1., 1., 1., 1.,\n",
              "       1., 1., 1., 1., 1., 1., 1., 1., 1., 1., 1., 1., 1., 1., 1., 1., 1.,\n",
              "       1., 1., 1., 1., 1., 1., 1., 1., 1., 1., 1., 1., 1., 1., 1., 1., 1.,\n",
              "       1., 1., 1., 1., 1., 1., 1., 1., 1., 1., 1., 1., 1., 1., 1., 1., 1.,\n",
              "       1., 1., 1., 1., 1., 1., 1., 1., 1., 1., 1., 1., 1., 1., 1.])"
            ]
          },
          "metadata": {},
          "execution_count": 3
        }
      ]
    },
    {
      "cell_type": "markdown",
      "metadata": {
        "id": "SoNoWQ93cPbQ"
      },
      "source": [
        "#### 3.Создать вектор размера 100, заполненный числом 3"
      ]
    },
    {
      "cell_type": "code",
      "metadata": {
        "id": "g5-HVNNRcPbR",
        "colab": {
          "base_uri": "https://localhost:8080/"
        },
        "outputId": "546fc22d-4ca3-4f7b-a0c3-3f36ed3d0d87"
      },
      "source": [
        "np.linspace(3, 3, 100)"
      ],
      "execution_count": 4,
      "outputs": [
        {
          "output_type": "execute_result",
          "data": {
            "text/plain": [
              "array([3., 3., 3., 3., 3., 3., 3., 3., 3., 3., 3., 3., 3., 3., 3., 3., 3.,\n",
              "       3., 3., 3., 3., 3., 3., 3., 3., 3., 3., 3., 3., 3., 3., 3., 3., 3.,\n",
              "       3., 3., 3., 3., 3., 3., 3., 3., 3., 3., 3., 3., 3., 3., 3., 3., 3.,\n",
              "       3., 3., 3., 3., 3., 3., 3., 3., 3., 3., 3., 3., 3., 3., 3., 3., 3.,\n",
              "       3., 3., 3., 3., 3., 3., 3., 3., 3., 3., 3., 3., 3., 3., 3., 3., 3.,\n",
              "       3., 3., 3., 3., 3., 3., 3., 3., 3., 3., 3., 3., 3., 3., 3.])"
            ]
          },
          "metadata": {},
          "execution_count": 4
        }
      ]
    },
    {
      "cell_type": "markdown",
      "metadata": {
        "id": "jEYBsp0-cPbR"
      },
      "source": [
        "#### 4. Как получить документацию о функции numpy.add из командной строки?"
      ]
    },
    {
      "cell_type": "code",
      "metadata": {
        "id": "1QNFR6NMcPbS"
      },
      "source": [
        "?np.add"
      ],
      "execution_count": null,
      "outputs": []
    },
    {
      "cell_type": "markdown",
      "metadata": {
        "id": "ZCM2GuQacPbS"
      },
      "source": [
        "#### 5. Поменять 2 строки в матрице"
      ]
    },
    {
      "cell_type": "code",
      "metadata": {
        "id": "EhT7348jcPbT"
      },
      "source": [
        "matrix_1 = np.array([[1, 2, 3], [4, 5, 6]])"
      ],
      "execution_count": 5,
      "outputs": []
    },
    {
      "cell_type": "code",
      "metadata": {
        "colab": {
          "base_uri": "https://localhost:8080/"
        },
        "id": "bESpvZVht4BP",
        "outputId": "5c88f74a-3140-4372-84ce-4e808c158192"
      },
      "source": [
        "matrix_1"
      ],
      "execution_count": 6,
      "outputs": [
        {
          "output_type": "execute_result",
          "data": {
            "text/plain": [
              "array([[1, 2, 3],\n",
              "       [4, 5, 6]])"
            ]
          },
          "metadata": {},
          "execution_count": 6
        }
      ]
    },
    {
      "cell_type": "code",
      "metadata": {
        "id": "dqHRTIQWtvQc"
      },
      "source": [
        "matrix_1[[0, 1]] = matrix_1[[1, 0]]"
      ],
      "execution_count": 7,
      "outputs": []
    },
    {
      "cell_type": "code",
      "metadata": {
        "colab": {
          "base_uri": "https://localhost:8080/"
        },
        "id": "SN2Sbpxot5dk",
        "outputId": "8843a8a8-3b71-4479-b511-24988f3be565"
      },
      "source": [
        "matrix_1"
      ],
      "execution_count": 8,
      "outputs": [
        {
          "output_type": "execute_result",
          "data": {
            "text/plain": [
              "array([[4, 5, 6],\n",
              "       [1, 2, 3]])"
            ]
          },
          "metadata": {},
          "execution_count": 8
        }
      ]
    },
    {
      "cell_type": "markdown",
      "metadata": {
        "id": "H4fk9R3ecPbT"
      },
      "source": [
        "#### 6. Создать вектор со значениями от 10 до 100"
      ]
    },
    {
      "cell_type": "code",
      "metadata": {
        "id": "LBN8ZLk2cPbT",
        "colab": {
          "base_uri": "https://localhost:8080/"
        },
        "outputId": "7182a545-1a45-4104-cf37-f20cb8aebbd6"
      },
      "source": [
        "np.arange(10, 101, 1)"
      ],
      "execution_count": 9,
      "outputs": [
        {
          "output_type": "execute_result",
          "data": {
            "text/plain": [
              "array([ 10,  11,  12,  13,  14,  15,  16,  17,  18,  19,  20,  21,  22,\n",
              "        23,  24,  25,  26,  27,  28,  29,  30,  31,  32,  33,  34,  35,\n",
              "        36,  37,  38,  39,  40,  41,  42,  43,  44,  45,  46,  47,  48,\n",
              "        49,  50,  51,  52,  53,  54,  55,  56,  57,  58,  59,  60,  61,\n",
              "        62,  63,  64,  65,  66,  67,  68,  69,  70,  71,  72,  73,  74,\n",
              "        75,  76,  77,  78,  79,  80,  81,  82,  83,  84,  85,  86,  87,\n",
              "        88,  89,  90,  91,  92,  93,  94,  95,  96,  97,  98,  99, 100])"
            ]
          },
          "metadata": {},
          "execution_count": 9
        }
      ]
    },
    {
      "cell_type": "markdown",
      "metadata": {
        "id": "5OgygTrTcPbT"
      },
      "source": [
        "#### 7. Развернуть вектор (первый становится последним)"
      ]
    },
    {
      "cell_type": "code",
      "metadata": {
        "id": "qaBNvxrKcPbU",
        "colab": {
          "base_uri": "https://localhost:8080/"
        },
        "outputId": "c2845f16-d363-4ed7-ba79-3f6b4442d120"
      },
      "source": [
        "arr = np.array([1, 2, 3])\n",
        "print(\"Вектор: \", arr)\n",
        "print(\"Развёрнутый вектор: \", arr[::-1])"
      ],
      "execution_count": 10,
      "outputs": [
        {
          "output_type": "stream",
          "name": "stdout",
          "text": [
            "Вектор:  [1 2 3]\n",
            "Развёрнутый вектор:  [3 2 1]\n"
          ]
        }
      ]
    },
    {
      "cell_type": "markdown",
      "metadata": {
        "id": "V_Cj1dz1cPbU"
      },
      "source": [
        "#### 8. Создать матрицу (двумерный массив) 4x4 со значениями от 0 до 16"
      ]
    },
    {
      "cell_type": "code",
      "metadata": {
        "id": "KfNcUXpocPbU",
        "colab": {
          "base_uri": "https://localhost:8080/"
        },
        "outputId": "c7902bdf-bfeb-42b0-e13e-ccf883ccc0f8"
      },
      "source": [
        "# Массив 4 на 4 можно составить только от 0 до 15, или от 1 до 16\n",
        "\n",
        "np.arange(0, 16, 1).reshape((4, 4))"
      ],
      "execution_count": null,
      "outputs": [
        {
          "output_type": "execute_result",
          "data": {
            "text/plain": [
              "array([[ 0,  1,  2,  3],\n",
              "       [ 4,  5,  6,  7],\n",
              "       [ 8,  9, 10, 11],\n",
              "       [12, 13, 14, 15]])"
            ]
          },
          "metadata": {},
          "execution_count": 11
        }
      ]
    },
    {
      "cell_type": "markdown",
      "metadata": {
        "id": "3NIT_OI-cPbU"
      },
      "source": [
        "#### 9.  Дан вектор [1, 2, 3, 4, 5], построить новый вектор с тремя нулями между каждым значением"
      ]
    },
    {
      "cell_type": "code",
      "metadata": {
        "id": "-enjk2vZcPbU",
        "colab": {
          "base_uri": "https://localhost:8080/"
        },
        "outputId": "42306f6f-1d5f-49fc-8230-1b4a1adec4fe"
      },
      "source": [
        "x = np.array([1, 2, 3, 4, 5])\n",
        "y = np.zeros(len(x) + (len(x)-1)*(3))\n",
        "y[::4] = x\n",
        "print(y)"
      ],
      "execution_count": 245,
      "outputs": [
        {
          "output_type": "stream",
          "name": "stdout",
          "text": [
            "[1. 0. 0. 0. 2. 0. 0. 0. 3. 0. 0. 0. 4. 0. 0. 0. 5.]\n"
          ]
        }
      ]
    },
    {
      "cell_type": "markdown",
      "metadata": {
        "id": "98etQgb0cPbV"
      },
      "source": [
        "#### 10. Создать 3x3 единичную матрицу"
      ]
    },
    {
      "cell_type": "code",
      "metadata": {
        "id": "bqcsDcQAcPbV",
        "colab": {
          "base_uri": "https://localhost:8080/"
        },
        "outputId": "4853ebe4-e15d-4975-f3c2-febe5206ab86"
      },
      "source": [
        "np.eye(3)"
      ],
      "execution_count": 14,
      "outputs": [
        {
          "output_type": "execute_result",
          "data": {
            "text/plain": [
              "array([[1., 0., 0.],\n",
              "       [0., 1., 0.],\n",
              "       [0., 0., 1.]])"
            ]
          },
          "metadata": {},
          "execution_count": 14
        }
      ]
    },
    {
      "cell_type": "markdown",
      "metadata": {
        "id": "WMCHmNNgcPbV"
      },
      "source": [
        "#### 11. Создать массив 3x3x3 со случайными значениями"
      ]
    },
    {
      "cell_type": "code",
      "metadata": {
        "id": "pEBlqlSGcPbV",
        "colab": {
          "base_uri": "https://localhost:8080/"
        },
        "outputId": "6c6909dd-de32-49e8-a9fd-9c5fa740de9d"
      },
      "source": [
        "np.random.random_sample(size=(3, 3, 3))"
      ],
      "execution_count": 12,
      "outputs": [
        {
          "output_type": "execute_result",
          "data": {
            "text/plain": [
              "array([[[0.14332023, 0.69987415, 0.9752143 ],\n",
              "        [0.87738333, 0.67798887, 0.71766752],\n",
              "        [0.19462537, 0.13369639, 0.279408  ]],\n",
              "\n",
              "       [[0.39806419, 0.05272859, 0.7916119 ],\n",
              "        [0.41684427, 0.89696537, 0.54110536],\n",
              "        [0.98600479, 0.96285496, 0.89262503]],\n",
              "\n",
              "       [[0.82782339, 0.77961461, 0.10437943],\n",
              "        [0.08805123, 0.20841554, 0.07067671],\n",
              "        [0.75407684, 0.46383519, 0.58937594]]])"
            ]
          },
          "metadata": {},
          "execution_count": 12
        }
      ]
    },
    {
      "cell_type": "markdown",
      "metadata": {
        "id": "f0vDldkZcPbV"
      },
      "source": [
        "#### 12. Создать массив 10x10 со случайными значениями, найти минимум и максимум"
      ]
    },
    {
      "cell_type": "code",
      "metadata": {
        "id": "4Fyrf0i8cPbV",
        "colab": {
          "base_uri": "https://localhost:8080/"
        },
        "outputId": "f7c07972-88e6-4b4a-eaa6-f8d98af4606f"
      },
      "source": [
        "array = np.random.random_sample(size=(10, 10))\n",
        "print(\"-\"* 20)\n",
        "print(array)\n",
        "print(\"-\" * 20)\n",
        "print(\"Минимум: \", np.min(array))\n",
        "print(\"Максимум: \", array.max())"
      ],
      "execution_count": 13,
      "outputs": [
        {
          "output_type": "stream",
          "name": "stdout",
          "text": [
            "--------------------\n",
            "[[0.20055398 0.64362303 0.5867954  0.57610491 0.29899902 0.9726757\n",
            "  0.12845586 0.63093771 0.11974665 0.84277017]\n",
            " [0.17662694 0.21888674 0.52019107 0.23684686 0.49647062 0.19186406\n",
            "  0.86072566 0.3729147  0.61313768 0.44873969]\n",
            " [0.75439666 0.22074131 0.78710916 0.95374664 0.61660517 0.52903648\n",
            "  0.83829078 0.42945862 0.36642644 0.92667506]\n",
            " [0.83584588 0.56911831 0.73139658 0.32411973 0.31441711 0.63674907\n",
            "  0.53008285 0.90054541 0.98473769 0.79456899]\n",
            " [0.34100745 0.87418633 0.61010417 0.41314322 0.24184912 0.47871527\n",
            "  0.78029556 0.95061032 0.67732588 0.25407681]\n",
            " [0.11301277 0.8133826  0.53401205 0.37070275 0.4084496  0.86099654\n",
            "  0.07349031 0.21091102 0.25888347 0.22827184]\n",
            " [0.02777197 0.02014399 0.0026312  0.98359628 0.00573572 0.911034\n",
            "  0.81910609 0.19441928 0.63439457 0.56948316]\n",
            " [0.39677185 0.51139952 0.63576937 0.60690189 0.12005455 0.81998542\n",
            "  0.78098537 0.6969822  0.65770324 0.65235127]\n",
            " [0.99457595 0.55155507 0.71810215 0.97045873 0.22361867 0.30779838\n",
            "  0.20285647 0.74070863 0.66048122 0.71442798]\n",
            " [0.33745711 0.390537   0.83797038 0.27116206 0.54223904 0.76239031\n",
            "  0.05579835 0.15883189 0.97604837 0.70163146]]\n",
            "--------------------\n",
            "Минимум:  0.0026312045336891465\n",
            "Максимум:  0.9945759517663108\n"
          ]
        }
      ]
    },
    {
      "cell_type": "markdown",
      "metadata": {
        "id": "-s9c8rjJcPbV"
      },
      "source": [
        "#### 13. Создать случайный вектор размера 30 и найти среднее значение всех элементов"
      ]
    },
    {
      "cell_type": "code",
      "metadata": {
        "id": "UR1LdVO_cPbW",
        "colab": {
          "base_uri": "https://localhost:8080/"
        },
        "outputId": "db50e6eb-01bf-4d00-c364-d1fe88288970"
      },
      "source": [
        "array = np.random.random_sample(size=30)\n",
        "print(\"-\"* 20)\n",
        "print(array)\n",
        "print(\"-\" * 20)\n",
        "print(\"Среднее: \", np.mean(array))"
      ],
      "execution_count": 15,
      "outputs": [
        {
          "output_type": "stream",
          "name": "stdout",
          "text": [
            "--------------------\n",
            "[0.33379983 0.16987228 0.19284623 0.97729417 0.16957272 0.61791406\n",
            " 0.00109935 0.4471849  0.78180806 0.17155547 0.39361448 0.14388528\n",
            " 0.1315136  0.48799316 0.99107821 0.45895041 0.62351435 0.44052385\n",
            " 0.93192708 0.31022085 0.11149401 0.499863   0.6851572  0.25125307\n",
            " 0.15954644 0.64391369 0.55015131 0.17379258 0.23734312 0.27408001]\n",
            "--------------------\n",
            "Среднее:  0.4120920917080398\n"
          ]
        }
      ]
    },
    {
      "cell_type": "markdown",
      "metadata": {
        "id": "m7u3MxazcPbW"
      },
      "source": [
        "#### 14. Создать матрицу с 0 внутри, и 1 на границах"
      ]
    },
    {
      "cell_type": "code",
      "metadata": {
        "id": "AeOmyB_McPbW",
        "colab": {
          "base_uri": "https://localhost:8080/"
        },
        "outputId": "1852ff96-2e66-4515-971f-914cd0416393"
      },
      "source": [
        "x = np.ones((10,10))\n",
        "x[1:-1,1:-1] = 0\n",
        "print(x)"
      ],
      "execution_count": 235,
      "outputs": [
        {
          "output_type": "stream",
          "name": "stdout",
          "text": [
            "[[1. 1. 1. 1. 1. 1. 1. 1. 1. 1.]\n",
            " [1. 0. 0. 0. 0. 0. 0. 0. 0. 1.]\n",
            " [1. 0. 0. 0. 0. 0. 0. 0. 0. 1.]\n",
            " [1. 0. 0. 0. 0. 0. 0. 0. 0. 1.]\n",
            " [1. 0. 0. 0. 0. 0. 0. 0. 0. 1.]\n",
            " [1. 0. 0. 0. 0. 0. 0. 0. 0. 1.]\n",
            " [1. 0. 0. 0. 0. 0. 0. 0. 0. 1.]\n",
            " [1. 0. 0. 0. 0. 0. 0. 0. 0. 1.]\n",
            " [1. 0. 0. 0. 0. 0. 0. 0. 0. 1.]\n",
            " [1. 1. 1. 1. 1. 1. 1. 1. 1. 1.]]\n"
          ]
        }
      ]
    },
    {
      "cell_type": "markdown",
      "metadata": {
        "id": "zFZkLXV7cPbW"
      },
      "source": [
        "#### 15. Удивите меня в этом задании, покажите какое нибудь класное преобразование в numpy (не идет в зачет)"
      ]
    },
    {
      "cell_type": "code",
      "metadata": {
        "id": "0NWZ9hcCcPbW",
        "colab": {
          "base_uri": "https://localhost:8080/"
        },
        "outputId": "10bab361-402b-421b-a423-8d62af6736ce"
      },
      "source": [
        "# Сдвиг трёхмерного массива\n",
        "x = np.arange(0, 9, 1).reshape((3, 3))\n",
        "print(\"Исходный массив:\")\n",
        "print(x)\n",
        "print(\"-\" * 20)\n",
        "print(\"После сдвига на 2: \")\n",
        "print(np.roll(x, 2))"
      ],
      "execution_count": 49,
      "outputs": [
        {
          "output_type": "stream",
          "name": "stdout",
          "text": [
            "Исходный массив:\n",
            "[[0 1 2]\n",
            " [3 4 5]\n",
            " [6 7 8]]\n",
            "--------------------\n",
            "После сдвига на 2: \n",
            "[[7 8 0]\n",
            " [1 2 3]\n",
            " [4 5 6]]\n"
          ]
        }
      ]
    },
    {
      "cell_type": "markdown",
      "metadata": {
        "id": "W2ajk-mmcPbW"
      },
      "source": [
        "#### 16. Создать 5x5 матрицу с 1,2,2,4 под диагональю"
      ]
    },
    {
      "cell_type": "code",
      "metadata": {
        "colab": {
          "base_uri": "https://localhost:8080/"
        },
        "id": "-gOde9ETvwEA",
        "outputId": "f7f08106-396c-4f71-df18-24829e64d472"
      },
      "source": [
        "np.diag(np.array([1, 2, 2, 4]), k=-1)"
      ],
      "execution_count": 238,
      "outputs": [
        {
          "output_type": "execute_result",
          "data": {
            "text/plain": [
              "array([[0, 0, 0, 0, 0],\n",
              "       [1, 0, 0, 0, 0],\n",
              "       [0, 2, 0, 0, 0],\n",
              "       [0, 0, 2, 0, 0],\n",
              "       [0, 0, 0, 4, 0]])"
            ]
          },
          "metadata": {},
          "execution_count": 238
        }
      ]
    },
    {
      "cell_type": "markdown",
      "metadata": {
        "id": "uNO087-_cPbW"
      },
      "source": [
        "#### 17. Создать 8x8 матрицу и заполнить её в шахматном порядке"
      ]
    },
    {
      "cell_type": "code",
      "metadata": {
        "id": "7JrDpa9qcPbW",
        "colab": {
          "base_uri": "https://localhost:8080/"
        },
        "outputId": "ef683488-bba7-4be4-b3c4-031f691a9924"
      },
      "source": [
        "x = np.zeros((8,8), dtype=int)\n",
        "x[1::2,::2] = 1\n",
        "x[::2,1::2] = 1\n",
        "print(x)"
      ],
      "execution_count": 236,
      "outputs": [
        {
          "output_type": "stream",
          "name": "stdout",
          "text": [
            "[[0 1 0 1 0 1 0 1]\n",
            " [1 0 1 0 1 0 1 0]\n",
            " [0 1 0 1 0 1 0 1]\n",
            " [1 0 1 0 1 0 1 0]\n",
            " [0 1 0 1 0 1 0 1]\n",
            " [1 0 1 0 1 0 1 0]\n",
            " [0 1 0 1 0 1 0 1]\n",
            " [1 0 1 0 1 0 1 0]]\n"
          ]
        }
      ]
    },
    {
      "cell_type": "markdown",
      "metadata": {
        "id": "h9fli1ZAcPbW"
      },
      "source": [
        "#### 18. Дан массив размерности (6,7,8). Каков индекс (x,y,z) сотого элемента?"
      ]
    },
    {
      "cell_type": "code",
      "metadata": {
        "id": "Cp3_Z-BQcPbX",
        "colab": {
          "base_uri": "https://localhost:8080/"
        },
        "outputId": "f7d120f0-af3a-4f6e-8c23-0eb19f32f395"
      },
      "source": [
        "np.unravel_index(indices = 100, shape = (6,7,8))"
      ],
      "execution_count": 234,
      "outputs": [
        {
          "output_type": "execute_result",
          "data": {
            "text/plain": [
              "(1, 5, 4)"
            ]
          },
          "metadata": {},
          "execution_count": 234
        }
      ]
    },
    {
      "cell_type": "markdown",
      "metadata": {
        "id": "AB-PO6vlcPbX"
      },
      "source": [
        "#### 19. Создать 8x8 матрицу и заполнить её в шахматном порядке, используя функцию tile"
      ]
    },
    {
      "cell_type": "code",
      "metadata": {
        "id": "xkclyj4-cPbX",
        "colab": {
          "base_uri": "https://localhost:8080/"
        },
        "outputId": "ba6b7bfe-7826-49e3-9a92-33197ac23de2"
      },
      "source": [
        "np.tile(np.hstack((np.tile((0, 1), 4), (np.tile((1, 0), 4)))), 4).reshape((8, 8))"
      ],
      "execution_count": 43,
      "outputs": [
        {
          "output_type": "execute_result",
          "data": {
            "text/plain": [
              "array([[0, 1, 0, 1, 0, 1, 0, 1],\n",
              "       [1, 0, 1, 0, 1, 0, 1, 0],\n",
              "       [0, 1, 0, 1, 0, 1, 0, 1],\n",
              "       [1, 0, 1, 0, 1, 0, 1, 0],\n",
              "       [0, 1, 0, 1, 0, 1, 0, 1],\n",
              "       [1, 0, 1, 0, 1, 0, 1, 0],\n",
              "       [0, 1, 0, 1, 0, 1, 0, 1],\n",
              "       [1, 0, 1, 0, 1, 0, 1, 0]])"
            ]
          },
          "metadata": {},
          "execution_count": 43
        }
      ]
    },
    {
      "cell_type": "markdown",
      "metadata": {
        "id": "MtXPjgUucPbX"
      },
      "source": [
        "#### 20. Перемножить матрицы 5x3 и 3x2"
      ]
    },
    {
      "cell_type": "code",
      "metadata": {
        "id": "xCs8vtefcPbX",
        "colab": {
          "base_uri": "https://localhost:8080/"
        },
        "outputId": "83d2d863-143b-4be3-a556-2f0e618344f9"
      },
      "source": [
        "matr53 = np.ones(shape=(5, 3))\n",
        "matr32 = np.array([[1, 2], [3, 4], [5, 6]])\n",
        "\n",
        "matr53.dot(matr32)"
      ],
      "execution_count": 44,
      "outputs": [
        {
          "output_type": "execute_result",
          "data": {
            "text/plain": [
              "array([[ 9., 12.],\n",
              "       [ 9., 12.],\n",
              "       [ 9., 12.],\n",
              "       [ 9., 12.],\n",
              "       [ 9., 12.]])"
            ]
          },
          "metadata": {},
          "execution_count": 44
        }
      ]
    },
    {
      "cell_type": "markdown",
      "metadata": {
        "id": "VijgWirxcPbX"
      },
      "source": [
        "#### 21. Дан массив, поменять знак у элементов, значения которых между 3 и 8"
      ]
    },
    {
      "cell_type": "code",
      "metadata": {
        "id": "KMcYBaRlcPbX",
        "colab": {
          "base_uri": "https://localhost:8080/"
        },
        "outputId": "4a6e98d3-4952-4121-9ab5-34e180ea45ef"
      },
      "source": [
        "x = np.random.randint(0, 10, size=(5, ))\n",
        "print(\"Исходный массив: \", x)\n",
        "\n",
        "x[(x >= 3) & (x <= 8)] *= -1\n",
        "print(\"Результат: \", x)"
      ],
      "execution_count": 63,
      "outputs": [
        {
          "output_type": "stream",
          "name": "stdout",
          "text": [
            "Исходный массив:  [2 3 5 1 6]\n",
            "Результат:  [ 2 -3 -5  1 -6]\n"
          ]
        }
      ]
    },
    {
      "cell_type": "markdown",
      "metadata": {
        "id": "XKDfLZ34cPbX"
      },
      "source": [
        "#### 23. Создать 5x5 матрицу со значениями в строках от 0 до 4"
      ]
    },
    {
      "cell_type": "code",
      "metadata": {
        "id": "c6A-NC5McPbX",
        "colab": {
          "base_uri": "https://localhost:8080/"
        },
        "outputId": "60464999-516a-48a3-b090-c2e1f35eaf8a"
      },
      "source": [
        "np.tile(np.arange(0, 5, 1), 5).reshape((5,5))"
      ],
      "execution_count": 66,
      "outputs": [
        {
          "output_type": "execute_result",
          "data": {
            "text/plain": [
              "array([[0, 1, 2, 3, 4],\n",
              "       [0, 1, 2, 3, 4],\n",
              "       [0, 1, 2, 3, 4],\n",
              "       [0, 1, 2, 3, 4],\n",
              "       [0, 1, 2, 3, 4]])"
            ]
          },
          "metadata": {},
          "execution_count": 66
        }
      ]
    },
    {
      "cell_type": "markdown",
      "metadata": {
        "id": "3CDrE6uEcPbX"
      },
      "source": [
        "#### 24. Есть генератор, сделать с его помощью массив"
      ]
    },
    {
      "cell_type": "code",
      "metadata": {
        "id": "74udm2zdcPbY",
        "colab": {
          "base_uri": "https://localhost:8080/"
        },
        "outputId": "3bbcd220-4fb9-4707-8bae-72aa08cf11e6"
      },
      "source": [
        "np.fromiter(range(0, 20), dtype = int, count = -1)"
      ],
      "execution_count": 67,
      "outputs": [
        {
          "output_type": "execute_result",
          "data": {
            "text/plain": [
              "array([ 0,  1,  2,  3,  4,  5,  6,  7,  8,  9, 10, 11, 12, 13, 14, 15, 16,\n",
              "       17, 18, 19])"
            ]
          },
          "metadata": {},
          "execution_count": 67
        }
      ]
    },
    {
      "cell_type": "markdown",
      "metadata": {
        "id": "UnrSW1NccPbY"
      },
      "source": [
        "#### 25. Создать вектор размера 10 со значениями от 0 до 1, не включая ни то, ни другое"
      ]
    },
    {
      "cell_type": "code",
      "metadata": {
        "id": "O588p8AYcPbY",
        "colab": {
          "base_uri": "https://localhost:8080/"
        },
        "outputId": "8a1f5cca-e021-49ba-e42b-582d14fa4291"
      },
      "source": [
        "0.999 * np.random.random(size = (10, )) + 0.001"
      ],
      "execution_count": 69,
      "outputs": [
        {
          "output_type": "execute_result",
          "data": {
            "text/plain": [
              "array([0.3056831 , 0.77746217, 0.95796552, 0.46513661, 0.97192676,\n",
              "       0.29869791, 0.00304926, 0.85438468, 0.4727725 , 0.31275817])"
            ]
          },
          "metadata": {},
          "execution_count": 69
        }
      ]
    },
    {
      "cell_type": "markdown",
      "metadata": {
        "id": "X62Y5ZdZcPbY"
      },
      "source": [
        "#### 26. Отсортировать вектор"
      ]
    },
    {
      "cell_type": "code",
      "metadata": {
        "id": "c3C7BA5EcPbY",
        "colab": {
          "base_uri": "https://localhost:8080/"
        },
        "outputId": "cb99702f-5957-4c68-8034-ac95024f9c73"
      },
      "source": [
        "x = np.random.randint(low = 0, high = 9, size = (20, ))\n",
        "print(\"Исходный массив: \", x)\n",
        "print(\"Отсортировнный массив: \", np.sort(x))"
      ],
      "execution_count": 68,
      "outputs": [
        {
          "output_type": "stream",
          "name": "stdout",
          "text": [
            "Исходный массив:  [2 6 8 5 1 3 6 3 2 2 3 2 4 4 8 5 1 4 6 6]\n",
            "Отсортировнный массив:  [1 1 2 2 2 2 3 3 3 4 4 4 5 5 6 6 6 6 8 8]\n"
          ]
        }
      ]
    },
    {
      "cell_type": "markdown",
      "metadata": {
        "id": "fraGg1qecPbY"
      },
      "source": [
        "#### 27. Проверить, одинаковы ли 2 numpy массива"
      ]
    },
    {
      "cell_type": "code",
      "metadata": {
        "id": "CuljGyqRcPbY",
        "colab": {
          "base_uri": "https://localhost:8080/"
        },
        "outputId": "8313bd8f-c6c9-44ba-940a-05c28734dd1d"
      },
      "source": [
        "print(\"Исходные массивы: \")\n",
        "x = np.array([1, 2, 3])\n",
        "y = np.array([1, 2, 3])\n",
        "\n",
        "print(x)\n",
        "print(y)\n",
        "print(\"-\" * 20)\n",
        "\n",
        "print(\"Равны ли эти массивы? - \", (x == y).all())\n",
        "print(\"-\" * 20)\n",
        "print(\"Изменим массив y\")\n",
        "y = np.array([1, 2, 4])\n",
        "print(y)\n",
        "print(\"Равны ли эти массивы? - \", (x == y).all())"
      ],
      "execution_count": 76,
      "outputs": [
        {
          "output_type": "stream",
          "name": "stdout",
          "text": [
            "Исходные массивы: \n",
            "[1 2 3]\n",
            "[1 2 3]\n",
            "--------------------\n",
            "Равны ли эти массивы? -  True\n",
            "--------------------\n",
            "Изменим массив y\n",
            "[1 2 4]\n",
            "Равны ли эти массивы? -  False\n"
          ]
        }
      ]
    },
    {
      "cell_type": "markdown",
      "metadata": {
        "id": "njDwbGjncPbY"
      },
      "source": [
        "#### 28. Сделать массив неизменяемым"
      ]
    },
    {
      "cell_type": "code",
      "metadata": {
        "id": "YxRyZmYhcPbY",
        "colab": {
          "base_uri": "https://localhost:8080/",
          "height": 198
        },
        "outputId": "d95f778e-f27c-486f-c1de-ca9a658297de"
      },
      "source": [
        "a = np.arange(10)\n",
        "a.flags.writeable = False\n",
        "a[0] = 1"
      ],
      "execution_count": 77,
      "outputs": [
        {
          "output_type": "error",
          "ename": "ValueError",
          "evalue": "ignored",
          "traceback": [
            "\u001b[0;31m---------------------------------------------------------------------------\u001b[0m",
            "\u001b[0;31mValueError\u001b[0m                                Traceback (most recent call last)",
            "\u001b[0;32m<ipython-input-77-6a6348e57803>\u001b[0m in \u001b[0;36m<module>\u001b[0;34m()\u001b[0m\n\u001b[1;32m      1\u001b[0m \u001b[0ma\u001b[0m \u001b[0;34m=\u001b[0m \u001b[0mnp\u001b[0m\u001b[0;34m.\u001b[0m\u001b[0marange\u001b[0m\u001b[0;34m(\u001b[0m\u001b[0;36m10\u001b[0m\u001b[0;34m)\u001b[0m\u001b[0;34m\u001b[0m\u001b[0;34m\u001b[0m\u001b[0m\n\u001b[1;32m      2\u001b[0m \u001b[0ma\u001b[0m\u001b[0;34m.\u001b[0m\u001b[0mflags\u001b[0m\u001b[0;34m.\u001b[0m\u001b[0mwriteable\u001b[0m \u001b[0;34m=\u001b[0m \u001b[0;32mFalse\u001b[0m\u001b[0;34m\u001b[0m\u001b[0;34m\u001b[0m\u001b[0m\n\u001b[0;32m----> 3\u001b[0;31m \u001b[0ma\u001b[0m\u001b[0;34m[\u001b[0m\u001b[0;36m0\u001b[0m\u001b[0;34m]\u001b[0m \u001b[0;34m=\u001b[0m \u001b[0;36m1\u001b[0m\u001b[0;34m\u001b[0m\u001b[0;34m\u001b[0m\u001b[0m\n\u001b[0m",
            "\u001b[0;31mValueError\u001b[0m: assignment destination is read-only"
          ]
        }
      ]
    },
    {
      "cell_type": "markdown",
      "metadata": {
        "id": "r4J17A_mcPbY"
      },
      "source": [
        "#### 29. Найти n наибольших значений в массиве"
      ]
    },
    {
      "cell_type": "code",
      "metadata": {
        "id": "LwQ4G1nOcPbY",
        "colab": {
          "base_uri": "https://localhost:8080/"
        },
        "outputId": "a5cadaae-c424-4d36-c8d5-6a5484908759"
      },
      "source": [
        "x = np.random.randint(low = 0, high = 20, size = (20, ))\n",
        "print(\"Исходный массив: \")\n",
        "print(x)\n",
        "print(\"-\" * 20)\n",
        "print(\"Первые N = 5 значений\", np.sort(x)[::-1][:5])"
      ],
      "execution_count": 80,
      "outputs": [
        {
          "output_type": "stream",
          "name": "stdout",
          "text": [
            "Исходный массив: \n",
            "[ 1  5 16  1  8  2  2  1  5 14  1  5  7 18  5  9  5  7  8 19]\n",
            "--------------------\n",
            "Первые N = 5 значений [19 18 16 14  9]\n"
          ]
        }
      ]
    },
    {
      "cell_type": "markdown",
      "metadata": {
        "id": "XrmXX0JGcPbY"
      },
      "source": [
        "#### 30. Заменить максимальный элемент на ноль"
      ]
    },
    {
      "cell_type": "code",
      "metadata": {
        "id": "UtfIoviHcPbY",
        "colab": {
          "base_uri": "https://localhost:8080/"
        },
        "outputId": "a82d4115-0bc7-4ea7-b85d-fa0824767dd5"
      },
      "source": [
        "x = np.random.randint(low = 0, high = 20, size = (20, ))\n",
        "print(\"Исходный массив: \")\n",
        "print(x)\n",
        "print(\"-\" * 20)\n",
        "print(\"Индекс масимального элемента (общий размер 20, индексы начиная с 0): \", np.argmax(x))\n",
        "x[np.argmax(x)] = 0\n",
        "print(\"После преобразования: \", x)"
      ],
      "execution_count": 86,
      "outputs": [
        {
          "output_type": "stream",
          "name": "stdout",
          "text": [
            "Исходный массив: \n",
            "[12  5 17  3  8  1 10  1  0  6 12 14  3 14 13 11  0 16  6 19]\n",
            "--------------------\n",
            "Индекс масимального элемента (общий размер 20, индексы начиная с 0):  19\n",
            "После преобразования:  [12  5 17  3  8  1 10  1  0  6 12 14  3 14 13 11  0 16  6  0]\n"
          ]
        }
      ]
    },
    {
      "cell_type": "markdown",
      "metadata": {
        "id": "DPowAPOncPbZ"
      },
      "source": [
        "#### 31. Создать структурированный массив с координатами x, y на сетке в квадрате [0,1]x[0,1]"
      ]
    },
    {
      "cell_type": "code",
      "metadata": {
        "id": "6yZprNulcPbZ",
        "colab": {
          "base_uri": "https://localhost:8080/"
        },
        "outputId": "18de982d-3ce1-48f6-8321-6e661e343a4c"
      },
      "source": [
        "grid = np.zeros(shape = (5, 5), dtype = [('x',float),('y',float)])\n",
        "grid['x'], grid['y'] = np.meshgrid(np.linspace(0,1,5),\n",
        "                             np.linspace(0,1,5))\n",
        "print(grid[::-1])"
      ],
      "execution_count": 232,
      "outputs": [
        {
          "output_type": "stream",
          "name": "stdout",
          "text": [
            "[[(0.  , 1.  ) (0.25, 1.  ) (0.5 , 1.  ) (0.75, 1.  ) (1.  , 1.  )]\n",
            " [(0.  , 0.75) (0.25, 0.75) (0.5 , 0.75) (0.75, 0.75) (1.  , 0.75)]\n",
            " [(0.  , 0.5 ) (0.25, 0.5 ) (0.5 , 0.5 ) (0.75, 0.5 ) (1.  , 0.5 )]\n",
            " [(0.  , 0.25) (0.25, 0.25) (0.5 , 0.25) (0.75, 0.25) (1.  , 0.25)]\n",
            " [(0.  , 0.  ) (0.25, 0.  ) (0.5 , 0.  ) (0.75, 0.  ) (1.  , 0.  )]]\n"
          ]
        }
      ]
    },
    {
      "cell_type": "markdown",
      "metadata": {
        "id": "n-c8A-mZcPbZ"
      },
      "source": [
        "#### 32. Из двух массивов сделать матрицу Коши C (Cij = 1/(xi - yj))"
      ]
    },
    {
      "cell_type": "code",
      "metadata": {
        "id": "H48ANSGXcPbZ",
        "colab": {
          "base_uri": "https://localhost:8080/"
        },
        "outputId": "92715149-3179-4c0d-c552-a77195bc533b"
      },
      "source": [
        "N = 5\n",
        "x = np.random.randint(low = 1, high = 20, size = (N, ))\n",
        "y = np.random.randint(low = 1, high = 20, size = (N, ))\n",
        "\n",
        "print(\"Исходные массивы: \")\n",
        "print(x)\n",
        "print(y)\n",
        "\n",
        "C = 1.0 / (x.reshape((-1,1)) - y)\n",
        "print(\"Матрица Коши: \")\n",
        "print(C)"
      ],
      "execution_count": 92,
      "outputs": [
        {
          "output_type": "stream",
          "name": "stdout",
          "text": [
            "Исходные массивы: \n",
            "[10 15 15  5 11]\n",
            "[ 9  8 16  6 17]\n",
            "Матрица Коши: \n",
            "[[ 1.          0.5        -0.16666667  0.25       -0.14285714]\n",
            " [ 0.16666667  0.14285714 -1.          0.11111111 -0.5       ]\n",
            " [ 0.16666667  0.14285714 -1.          0.11111111 -0.5       ]\n",
            " [-0.25       -0.33333333 -0.09090909 -1.         -0.08333333]\n",
            " [ 0.5         0.33333333 -0.2         0.2        -0.16666667]]\n"
          ]
        }
      ]
    },
    {
      "cell_type": "markdown",
      "metadata": {
        "id": "_3F4d2LycPbZ"
      },
      "source": [
        "#### 33. Найти минимальное и максимальное значение, принимаемое каждым числовым типом numpy"
      ]
    },
    {
      "cell_type": "code",
      "metadata": {
        "id": "tO1CYKMTcPbZ",
        "colab": {
          "base_uri": "https://localhost:8080/"
        },
        "outputId": "6bdc47fe-a62b-4b84-8887-4c6bd0411840"
      },
      "source": [
        "print(np.finfo(np.float))\n",
        "print(np.finfo(np.float128))\n",
        "print(np.finfo(np.float32))\n",
        "\n",
        "print(np.iinfo(np.int32))\n",
        "print(np.iinfo(np.int64))\n",
        "print(np.iinfo(np.int16))"
      ],
      "execution_count": 110,
      "outputs": [
        {
          "output_type": "stream",
          "name": "stdout",
          "text": [
            "Machine parameters for float64\n",
            "---------------------------------------------------------------\n",
            "precision =  15   resolution = 1.0000000000000001e-15\n",
            "machep =    -52   eps =        2.2204460492503131e-16\n",
            "negep =     -53   epsneg =     1.1102230246251565e-16\n",
            "minexp =  -1022   tiny =       2.2250738585072014e-308\n",
            "maxexp =   1024   max =        1.7976931348623157e+308\n",
            "nexp =       11   min =        -max\n",
            "---------------------------------------------------------------\n",
            "\n",
            "Machine parameters for float128\n",
            "---------------------------------------------------------------\n",
            "precision =  18   resolution = 1e-18\n",
            "machep =    -63   eps =        1.084202172485504434e-19\n",
            "negep =     -64   epsneg =     5.42101086242752217e-20\n",
            "minexp = -16382   tiny =       3.3621031431120935063e-4932\n",
            "maxexp =  16384   max =        1.189731495357231765e+4932\n",
            "nexp =       15   min =        -max\n",
            "---------------------------------------------------------------\n",
            "\n",
            "Machine parameters for float32\n",
            "---------------------------------------------------------------\n",
            "precision =   6   resolution = 1.0000000e-06\n",
            "machep =    -23   eps =        1.1920929e-07\n",
            "negep =     -24   epsneg =     5.9604645e-08\n",
            "minexp =   -126   tiny =       1.1754944e-38\n",
            "maxexp =    128   max =        3.4028235e+38\n",
            "nexp =        8   min =        -max\n",
            "---------------------------------------------------------------\n",
            "\n",
            "Machine parameters for int32\n",
            "---------------------------------------------------------------\n",
            "min = -2147483648\n",
            "max = 2147483647\n",
            "---------------------------------------------------------------\n",
            "\n",
            "Machine parameters for int64\n",
            "---------------------------------------------------------------\n",
            "min = -9223372036854775808\n",
            "max = 9223372036854775807\n",
            "---------------------------------------------------------------\n",
            "\n",
            "Machine parameters for int16\n",
            "---------------------------------------------------------------\n",
            "min = -32768\n",
            "max = 32767\n",
            "---------------------------------------------------------------\n",
            "\n"
          ]
        }
      ]
    },
    {
      "cell_type": "markdown",
      "metadata": {
        "id": "3MrdUQ_4cPbZ"
      },
      "source": [
        "#### 34. Напечатать все значения в массиве"
      ]
    },
    {
      "cell_type": "code",
      "metadata": {
        "id": "CL8iIjkJcPbZ",
        "colab": {
          "base_uri": "https://localhost:8080/"
        },
        "outputId": "abe4bc57-705c-4584-9e62-78e7b643f7eb"
      },
      "source": [
        "x = np.random.randint(low = 0, high = 20, size = (1000, ))\n",
        "\n",
        "print(\"Вывод всех значений: \")\n",
        "with np.printoptions(threshold=np.inf):\n",
        "    print(x)"
      ],
      "execution_count": 114,
      "outputs": [
        {
          "output_type": "stream",
          "name": "stdout",
          "text": [
            "Вывод всех значений: \n",
            "[ 6 14 10  5  7 19 15  0  0  9  0  5  9 15  0  0  9  4  0 13  0 16  0 11\n",
            "  8 11  3  5 15 14 13  9  9 14 13  6 18 11 13 19 17  3 13 12 19 13 10  5\n",
            " 13  1 19  9  0  9  0 14  9 18 10  7 18  0  5  2  8 13  9  5  7 13 19 18\n",
            "  1  8  7 16  9  4  4 18 17 13 17  2  8 15  5  7  7  3  1 17 17 10  7 12\n",
            " 14  1 15  7  3 17 12 12 15 12  1  7 14  1 11  2 19  5  6  0 13  4  7 13\n",
            " 16 16  3 12  2  5  0  6 19  5 11  4  5  7 10  6  5 10 13  6 19 15  9 13\n",
            " 13  9 14 13  8 12 14 17 10  5  7  8  5 11 16 18 17  7  6  8  9 17  7 16\n",
            " 17  0  7 16 12 16  4  3  5 16  0 13  4  0  0  9 19  4 15  7  7  2 15  7\n",
            " 18  5  8  3 12 17 11  8  1 11 17 19  1 14  7 10  7  9  3 16  3 10  2  8\n",
            " 15 15  3 19  9  9  2 16  5 15  0  8  7  2 15  1 13  1  0  1 11  6  6  1\n",
            "  9  2 18 15 17  1 18 14  2  5 14  7 11  7  2 15 10  0 13 10 14  7  8  1\n",
            "  8 12  9 19 16 17 12 13 19 17 13 17  9 11  0 16  0 16 19  3 11  2  6  8\n",
            "  1 12 14 19  1  6  7 18 17  8  0 13  7  3  4 18 11 19 12  4 15  4  9  7\n",
            "  3  3  6 16 17 12 14 13  3  2  7 13 19 11 11  7  6  9 10  7  9  6  3  5\n",
            "  0 15 13 19  5  8 14  0  3 12 12  4  3 12 13  7 16  7 11 13 10 18 16 11\n",
            "  8 15 12 19  4 16 18  8 18 19  1  2  2  4  2  1 13  4 10  1 18  0 11  3\n",
            " 14 12 10  4 17  5  1 16  8  8  8 15 19  3 19 15  9 15  1  0  8 14 10  3\n",
            " 13  2 16  6  0  0 10 18  1 17  2 17 10 14 11 14  6 18  9 16 10 12 15  9\n",
            "  1 13  3  8  3 15  7 12 13 18 16  8 19 12  6 16 19  0 12  3 14  5  4  0\n",
            " 19  7  9  9 19 11 15  1 19  6 13  6  4 12 19 12  1 17 13  3  6 12 11  6\n",
            "  9 17  4  2  9 16 12 12  7  4 17 12 13 19  8  6 12  1  8  3 10 15 18 15\n",
            " 13  0 11 15  0 13  5  5  0 12  9 15  6  8  1 18 14 18 15 10  5  6 14  1\n",
            " 13  8 19  6  9 11  3  2  1 16  1 11 10  8 15  4 19  9  8  1 12 17 12 10\n",
            " 16  4  6 17  3  5 14 18  8 15 12  5  8 16  9  4  0  2 17 13 12  8  8  2\n",
            "  7 18 18 10  1  3  4 12 10 14 19  6  2  2  3  9 12  5 14  4 18  0  6 19\n",
            " 17  2  2 15 17 17 10 11  7  2  3 11  5 16  0  9 18  0 18  2  6  2 17  6\n",
            " 17  2  6 16 19 18  0 15 11 16  1 14  6 10 13 12 16 17  1  7  0  9 10  3\n",
            " 16  5  7 16 17  3  0  2  3  2 13  5 11  8 13 16 15 14 14  7  4  8 15  1\n",
            "  4  3  0  9  7  9  1  5  6  6 10 16  6  4  3  2  9 17  6 17  6  2  1 13\n",
            "  1 18 11  0  7  4  2  0 13  7 16 17 19 12  5  0  9 13  0  8 16  1 14  6\n",
            "  6  7  0 11 16 14  3  7 17 13  5  2  1  7  3  1 18 18 10 10  0 17 15 18\n",
            " 19  7 11 17 18  2 10  5  6  3  0 15 11 14  7  3  3  5 10  4  9 18 18 16\n",
            " 13  4 16  0 12  7  0 16 14  7 15  8 18  9  0 17  8  3 12  5  1 15 16 11\n",
            " 13  4  9 14  5 17  0 19  5 15 11 19 13  4  5 13 14  0 10  9 19 11 19 16\n",
            "  5  8  8 19  5 16 12  6  0  7  6  2 14 15 16  9 10  8 18  5  2  4  6 14\n",
            "  1 17  2 18 18  5 13  0  9 10  1 11  1  2  2 14 10  2 17 11 10  0 11 17\n",
            "  6  0  8  4  0  6 12 15 17 18 13 18 19  5 18  9 10 10  7  8  9 15 14  2\n",
            " 14 16 15  1 14  7  9 15 12  6  0  0  4 10 19  0 11 15  7 17  1  3  7  9\n",
            " 15  2  2 12 16  8 10 13 18 11  8  7  5  8 16 19  6  9  6 14  7  1 16 13\n",
            " 18  6  8  5  3  4  9 15 19 19  6  7 12  4 15  0  7  7 10 16 15 17 10 10\n",
            "  7 17  4 17 18  5 14 14 19 19  9  9 17  4 19  1  3 15 11 18  2  7 18  1\n",
            " 16 13 17 12  6 10  2  4  4  6  8  3 19  2 19  2]\n"
          ]
        }
      ]
    },
    {
      "cell_type": "markdown",
      "metadata": {
        "id": "wLUl-0bpcPbZ"
      },
      "source": [
        "#### 35. Найти ближайшее к заданному значению число в заданном массиве"
      ]
    },
    {
      "cell_type": "code",
      "metadata": {
        "id": "uea9qD1CcPbZ",
        "colab": {
          "base_uri": "https://localhost:8080/"
        },
        "outputId": "9fffc098-ae7c-40db-9ea6-2cf1b48f3e2d"
      },
      "source": [
        "X = 15\n",
        "x = np.random.randint(low = 0, high = 100, size = (10, ))\n",
        "print(\"Исходный массив: \")\n",
        "print(x)\n",
        "print(\"-\" * 20)\n",
        "print(\"Заданное число: \", X)\n",
        "print(\"Индекс ближайшего элемента и его значение(общий размер 100, индексы начиная с 0): \", \\\n",
        "      np.argmin(np.abs(x - X)), x[np.argmin(np.abs(x - X))])"
      ],
      "execution_count": 115,
      "outputs": [
        {
          "output_type": "stream",
          "name": "stdout",
          "text": [
            "Исходный массив: \n",
            "[63 18 59 28 26 88 57 49 63 33]\n",
            "--------------------\n",
            "Заданное число:  15\n",
            "Индекс ближайшего элемента и его значение(общий размер 100, индексы начиная с 0):  1 18\n"
          ]
        }
      ]
    },
    {
      "cell_type": "markdown",
      "metadata": {
        "id": "o3JCFosAcPbZ"
      },
      "source": [
        "#### 36. Преобразовать массив из float в int"
      ]
    },
    {
      "cell_type": "code",
      "metadata": {
        "id": "X4I2CEA7cPbZ",
        "colab": {
          "base_uri": "https://localhost:8080/"
        },
        "outputId": "e9962a05-0a0f-4684-d629-8b92680f65e9"
      },
      "source": [
        "x = 5 * np.random.random(size = (10, )) - 5\n",
        "print(x)\n",
        "\n",
        "print(\"После приведения: \")\n",
        "print(x.astype(int))"
      ],
      "execution_count": 119,
      "outputs": [
        {
          "output_type": "stream",
          "name": "stdout",
          "text": [
            "[-4.64937254 -2.71670896 -0.63444909 -1.15213333 -0.19554989 -1.68295947\n",
            " -2.63585428 -1.37356324 -0.15206929 -3.41160093]\n",
            "После приведения: \n",
            "[-4 -2  0 -1  0 -1 -2 -1  0 -3]\n"
          ]
        }
      ]
    },
    {
      "cell_type": "markdown",
      "metadata": {
        "id": "qF5OW1YCcPbZ"
      },
      "source": [
        "#### 37. Каков эквивалент функции enumerate для numpy массивов?"
      ]
    },
    {
      "cell_type": "code",
      "metadata": {
        "id": "TGo60MvZcPba",
        "colab": {
          "base_uri": "https://localhost:8080/"
        },
        "outputId": "3da2b938-b9fa-4fb0-c18b-1b1afb9f3ac8"
      },
      "source": [
        "y = np.random.randint(low = 1, high = 20, size = (5, 2))\n",
        "\n",
        "for index, value in np.ndenumerate(y):\n",
        "  print(index, value)"
      ],
      "execution_count": 122,
      "outputs": [
        {
          "output_type": "stream",
          "name": "stdout",
          "text": [
            "(0, 0) 9\n",
            "(0, 1) 2\n",
            "(1, 0) 11\n",
            "(1, 1) 11\n",
            "(2, 0) 17\n",
            "(2, 1) 18\n",
            "(3, 0) 11\n",
            "(3, 1) 13\n",
            "(4, 0) 6\n",
            "(4, 1) 12\n"
          ]
        }
      ]
    },
    {
      "cell_type": "markdown",
      "metadata": {
        "id": "rqiQvZqVcPba"
      },
      "source": [
        "#### 38. Случайно расположить p элементов в 2D массив"
      ]
    },
    {
      "cell_type": "code",
      "metadata": {
        "id": "bGB3uxhKcPba",
        "colab": {
          "base_uri": "https://localhost:8080/"
        },
        "outputId": "32379634-e2ea-45a7-c640-565f269cc399"
      },
      "source": [
        "N = 5\n",
        "x = np.zeros((N,N))\n",
        "p = 7\n",
        "np.put(x, np.random.choice(range(N * N), p, replace=False), 1)\n",
        "print(x)"
      ],
      "execution_count": 227,
      "outputs": [
        {
          "output_type": "stream",
          "name": "stdout",
          "text": [
            "[[0. 0. 0. 1. 1.]\n",
            " [0. 0. 1. 0. 1.]\n",
            " [0. 0. 0. 0. 1.]\n",
            " [0. 1. 0. 0. 0.]\n",
            " [0. 0. 1. 0. 0.]]\n"
          ]
        }
      ]
    },
    {
      "cell_type": "markdown",
      "metadata": {
        "id": "pYsAyHXmcPba"
      },
      "source": [
        "#### 39. Отнять среднее из каждой строки в матрице"
      ]
    },
    {
      "cell_type": "code",
      "metadata": {
        "id": "EwJQuNQkcPba",
        "colab": {
          "base_uri": "https://localhost:8080/"
        },
        "outputId": "680ac01c-3e67-4028-81db-0423cde9013d"
      },
      "source": [
        "y = np.random.randint(low = 1, high = 20, size = (3, 3))\n",
        "print(\"Исходная матрица: \")\n",
        "print(y)\n",
        "print(\"После отнятия среднего по каждой строке: \")\n",
        "y - np.mean(y, axis = 1).reshape(3, -1)"
      ],
      "execution_count": 132,
      "outputs": [
        {
          "output_type": "stream",
          "name": "stdout",
          "text": [
            "Исходная матрица: \n",
            "[[17  8 12]\n",
            " [ 2  6 12]\n",
            " [ 4  4  8]]\n",
            "После отнятия среднего: \n"
          ]
        },
        {
          "output_type": "execute_result",
          "data": {
            "text/plain": [
              "array([[ 4.66666667, -4.33333333, -0.33333333],\n",
              "       [-4.66666667, -0.66666667,  5.33333333],\n",
              "       [-1.33333333, -1.33333333,  2.66666667]])"
            ]
          },
          "metadata": {},
          "execution_count": 132
        }
      ]
    },
    {
      "cell_type": "markdown",
      "metadata": {
        "id": "qYuRc1g5cPba"
      },
      "source": [
        "#### 40. Отсортировать матрицу по n-ому столбцу"
      ]
    },
    {
      "cell_type": "code",
      "metadata": {
        "id": "3QhjZYQXcPba",
        "colab": {
          "base_uri": "https://localhost:8080/"
        },
        "outputId": "2bce2b73-dd45-44f6-eae5-ad3565924aa9"
      },
      "source": [
        "y = np.random.randint(low = 1, high = 20, size = (3, 3))\n",
        "print(\"Исходная матрица: \")\n",
        "print(y)\n",
        "N = 1 \n",
        "print(\"После сортировке по второму столбцу (индексация с 0): \")\n",
        "print(y[y[:, N].argsort()])"
      ],
      "execution_count": 207,
      "outputs": [
        {
          "output_type": "stream",
          "name": "stdout",
          "text": [
            "Исходная матрица: \n",
            "[[18  6  6]\n",
            " [ 6 17 19]\n",
            " [11 12  9]]\n",
            "После сортировке по второму столбцу (индексация с 0): \n",
            "[[18  6  6]\n",
            " [11 12  9]\n",
            " [ 6 17 19]]\n"
          ]
        }
      ]
    },
    {
      "cell_type": "markdown",
      "metadata": {
        "id": "Iyn5BLqJcPba"
      },
      "source": [
        "#### 41. Определить, есть ли в 2D массиве нулевые столбцы"
      ]
    },
    {
      "cell_type": "code",
      "metadata": {
        "id": "Urt1N2VccPba",
        "colab": {
          "base_uri": "https://localhost:8080/"
        },
        "outputId": "3cc80d25-ef0f-4cd5-efa8-a4e9df056bca"
      },
      "source": [
        "y = np.random.randint(low = 0, high = 2, size = (3, 3))\n",
        "print(\"Исходная матрица: \")\n",
        "print(y)\n",
        "\n",
        "t = y.any(axis=0)\n",
        "t[t == False].shape[0] > 0"
      ],
      "execution_count": 205,
      "outputs": [
        {
          "output_type": "stream",
          "name": "stdout",
          "text": [
            "Исходная матрица: \n",
            "[[1 0 0]\n",
            " [0 0 1]\n",
            " [1 0 0]]\n"
          ]
        },
        {
          "output_type": "execute_result",
          "data": {
            "text/plain": [
              "True"
            ]
          },
          "metadata": {},
          "execution_count": 205
        }
      ]
    },
    {
      "cell_type": "markdown",
      "metadata": {
        "id": "7oewiynTcPba"
      },
      "source": [
        "#### 42. Дан массив, добавить 1 к каждому элементу с индексом, заданным в другом массиве (осторожно с повторами)"
      ]
    },
    {
      "cell_type": "code",
      "metadata": {
        "id": "CDgGgoMwcPba",
        "colab": {
          "base_uri": "https://localhost:8080/"
        },
        "outputId": "7b94cd7b-dae1-4d1b-d297-060900b85117"
      },
      "source": [
        "x = np.random.randint(low = 1, high = 20, size = (10, ))\n",
        "ind = np.array([1, 3, 5])\n",
        "print(\"Исходный массив: \")\n",
        "print(x)\n",
        "\n",
        "print(\"Индексы для добавления: \")\n",
        "print(ind)\n",
        "x += np.bincount(ind, minlength=len(x))\n",
        "print(\"Результат: \")\n",
        "print(x)"
      ],
      "execution_count": 152,
      "outputs": [
        {
          "output_type": "stream",
          "name": "stdout",
          "text": [
            "Исходный массив: \n",
            "[ 3 18  5  9  2  7 13 14 16  4]\n",
            "Индексы для добавления: \n",
            "[1 3 5]\n",
            "Результат: \n",
            "[ 3 19  5 10  2  8 13 14 16  4]\n"
          ]
        }
      ]
    },
    {
      "cell_type": "markdown",
      "metadata": {
        "id": "ckfgD9WUcPba"
      },
      "source": [
        "#### 43. Дан массив (w,h,3) (картинка) dtype=ubyte, посчитать количество различных цветов"
      ]
    },
    {
      "cell_type": "code",
      "metadata": {
        "id": "qRmqbAoPAyXP",
        "colab": {
          "base_uri": "https://localhost:8080/"
        },
        "outputId": "463f6ad7-70a7-452f-a10b-abc545e3d9e5"
      },
      "source": [
        "w = h = 2\n",
        "pic = np.random.randint(0, 2, (h,w,3)).astype(np.ubyte)\n",
        "print(\"Картинка: \")\n",
        "print(pic)\n",
        "\n",
        "print(\"Количество разных цветов: \")\n",
        "np.unique(np.apply_along_axis(lambda x: str(x), 2, pic), 2)[0].shape[0]"
      ],
      "execution_count": 287,
      "outputs": [
        {
          "output_type": "stream",
          "name": "stdout",
          "text": [
            "Картинка: \n",
            "[[[0 1 1]\n",
            "  [1 0 1]]\n",
            "\n",
            " [[0 1 0]\n",
            "  [0 1 1]]]\n",
            "Количество разных цветов: \n"
          ]
        },
        {
          "output_type": "execute_result",
          "data": {
            "text/plain": [
              "3"
            ]
          },
          "metadata": {},
          "execution_count": 287
        }
      ]
    },
    {
      "cell_type": "markdown",
      "metadata": {
        "id": "l9GGqJF3cPbb"
      },
      "source": [
        "#### 44. Дан четырехмерный массив, посчитать сумму по последним двум осям"
      ]
    },
    {
      "cell_type": "code",
      "metadata": {
        "id": "OLv58dPmcPbb",
        "colab": {
          "base_uri": "https://localhost:8080/"
        },
        "outputId": "ff441520-0299-4ea7-b716-e2b28a562aae"
      },
      "source": [
        "x = np.random.randint(low = 1, high = 20, size = (2, 3, 4, 5))\n",
        "print(\"Исходный массив: \")\n",
        "print(x)\n",
        "print(\"Результат: \")\n",
        "print(x.reshape(x.shape[:-2] + (-1, )).sum(axis=0))"
      ],
      "execution_count": 211,
      "outputs": [
        {
          "output_type": "stream",
          "name": "stdout",
          "text": [
            "Исходный массив: \n",
            "[[[[ 4 14  8  5  3]\n",
            "   [ 3 16 19 12 12]\n",
            "   [ 3  5 14 17 18]\n",
            "   [16 10  5 13  2]]\n",
            "\n",
            "  [[18  1 16  3  5]\n",
            "   [13  6 11  9 17]\n",
            "   [ 5 15 10 19  3]\n",
            "   [19 14 14 19  6]]\n",
            "\n",
            "  [[14  6 16 19 10]\n",
            "   [ 1  1 18 17 10]\n",
            "   [15  3 17  1  4]\n",
            "   [14 17 10 13 17]]]\n",
            "\n",
            "\n",
            " [[[ 3  4  7 15 19]\n",
            "   [15 11 16  7 11]\n",
            "   [15  6  4 11 13]\n",
            "   [ 2  2 18  3 12]]\n",
            "\n",
            "  [[ 5  1 16  8  8]\n",
            "   [ 8  2  6  8 14]\n",
            "   [ 2  1  2  3 14]\n",
            "   [ 5  7 18 13  8]]\n",
            "\n",
            "  [[19 12 18  7  2]\n",
            "   [ 5 17 16  8 12]\n",
            "   [19  9  3  8 19]\n",
            "   [17  3 12  1  6]]]]\n",
            "Результат: \n",
            "[[ 7 18 15 20 22 18 27 35 19 23 18 11 18 28 31 18 12 23 16 14]\n",
            " [23  2 32 11 13 21  8 17 17 31  7 16 12 22 17 24 21 32 32 14]\n",
            " [33 18 34 26 12  6 18 34 25 22 34 12 20  9 23 31 20 22 14 23]]\n"
          ]
        }
      ]
    },
    {
      "cell_type": "code",
      "metadata": {
        "id": "nXSUE4CFE6hh"
      },
      "source": [
        ""
      ],
      "execution_count": null,
      "outputs": []
    }
  ]
}