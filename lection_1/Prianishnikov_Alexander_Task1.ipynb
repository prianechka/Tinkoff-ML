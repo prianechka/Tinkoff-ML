{
  "nbformat": 4,
  "nbformat_minor": 5,
  "metadata": {
    "kernelspec": {
      "display_name": "Python 3",
      "language": "python",
      "name": "python3"
    },
    "language_info": {
      "codemirror_mode": {
        "name": "ipython",
        "version": 3
      },
      "file_extension": ".py",
      "mimetype": "text/x-python",
      "name": "python",
      "nbconvert_exporter": "python",
      "pygments_lexer": "ipython3",
      "version": "3.7.10"
    },
    "colab": {
      "name": "Prianishnikov_Alexander_Task1.ipynb",
      "provenance": [],
      "collapsed_sections": []
    }
  },
  "cells": [
    {
      "cell_type": "markdown",
      "metadata": {
        "id": "VvFvjNBH3QY3"
      },
      "source": [
        "## Домашнее задание"
      ],
      "id": "VvFvjNBH3QY3"
    },
    {
      "cell_type": "markdown",
      "metadata": {
        "id": "F1nB_pZ53TLc"
      },
      "source": [
        "В этой тетрадке вам предлагается реализовать задания при помощи библиотеки numpy. Крайне желательно при выполнении разных заданий не использовать циклы. Если вы не понимаете, как выполнить конкретную задачу без циклов - убирайте их постепенно, разбейте выполнение задачи на этапы и постепенно векторизуйте каждый этап.\n",
        "\n",
        "Если вам непонятно, как выполнить ту или иную операцию - не стесняйтесь гуглить, если над вами повис дедлайн, а вы всё ещё на чём-то застряли - пишите преподу/в чат, это ок.\n",
        "\n",
        "**Обсудить решение лучше и сделать в итоге хоть что-то гораздо лучше, чем скатать чужой код или сдать пустую тетрадку.**"
      ],
      "id": "F1nB_pZ53TLc"
    },
    {
      "cell_type": "code",
      "metadata": {
        "id": "BxCGcHcxyAwh"
      },
      "source": [
        "import numpy as np\n",
        "\n",
        "# Это для 21 задания\n",
        "import warnings\n",
        "warnings.filterwarnings(\"ignore\")"
      ],
      "id": "BxCGcHcxyAwh",
      "execution_count": 1,
      "outputs": []
    },
    {
      "cell_type": "markdown",
      "metadata": {
        "id": "byY0Ab4Jww36"
      },
      "source": [
        "### Drill (1 балл)"
      ],
      "id": "byY0Ab4Jww36"
    },
    {
      "cell_type": "markdown",
      "metadata": {
        "id": "g9nrcP5ExLOr"
      },
      "source": [
        "Задание 1.\n",
        "\n",
        "Инициализируйте нулями массивы следующих форм:\n",
        "\n",
        "* (5)\n",
        "* (5, 1)\n",
        "* (10, 2)\n",
        "* (3, 6, 2)\n",
        "* (4, 3, 2, 1)"
      ],
      "id": "g9nrcP5ExLOr"
    },
    {
      "cell_type": "code",
      "metadata": {
        "id": "GDFryOCFwwO5"
      },
      "source": [
        "# Ваш код\n",
        "arr_1_zeros = np.zeros(5)\n",
        "arr_2_zeros = np.zeros(shape = (5, 1))\n",
        "arr_3_zeros = np.zeros(shape = (10, 2))\n",
        "arr_4_zeros = np.zeros(shape = (3, 6, 2))\n",
        "arr_5_zeros = np.zeros(shape = (4, 3, 2, 1))"
      ],
      "id": "GDFryOCFwwO5",
      "execution_count": 2,
      "outputs": []
    },
    {
      "cell_type": "markdown",
      "metadata": {
        "id": "nB5ePY6S5AWx"
      },
      "source": [
        "Задание 2.\n",
        "\n",
        "Инициализируйте единицами массивы таких же форм и приведите их к целочисленному виду:"
      ],
      "id": "nB5ePY6S5AWx"
    },
    {
      "cell_type": "code",
      "metadata": {
        "id": "bW7_oEBw5Ga8"
      },
      "source": [
        "# Ваш код\n",
        "arr_1_ones = np.ones(5, dtype=int)\n",
        "arr_2_ones = np.ones(shape = (5, 1), dtype=int)\n",
        "arr_3_ones = np.ones(shape = (10, 2), dtype=int)\n",
        "arr_4_ones = np.ones(shape = (3, 6, 2), dtype=int)\n",
        "arr_5_ones = np.ones(shape = (4, 3, 2, 1), dtype=int)"
      ],
      "id": "bW7_oEBw5Ga8",
      "execution_count": 3,
      "outputs": []
    },
    {
      "cell_type": "markdown",
      "metadata": {
        "id": "_S7FJFXexb3o"
      },
      "source": [
        "Задание 3.\n",
        "\n",
        "Выполните для векторов выше `reshape` в\n",
        "* 2 произвольных компоненты\n",
        "* 3 произвольных компоненты\n",
        "* 4 произвольных компоненты"
      ],
      "id": "_S7FJFXexb3o"
    },
    {
      "cell_type": "code",
      "metadata": {
        "id": "XDWmmsoYXBDP"
      },
      "source": [
        "# Ваш код\n",
        "arr_3_ones = arr_3_ones.reshape((20, 1))\n",
        "arr_4_ones = arr_4_ones.reshape((3, 3, 4))\n",
        "arr_5_ones = arr_5_ones.reshape((1, 2, 3, 4))"
      ],
      "id": "XDWmmsoYXBDP",
      "execution_count": 4,
      "outputs": []
    },
    {
      "cell_type": "markdown",
      "metadata": {
        "id": "Kp3SvzHyxyPp"
      },
      "source": [
        "Задание 4.\n",
        "\n",
        "Для вектора ниже посчитайте его\n",
        "* Максимум по 1 оси\n",
        "* Минимум по 0 оси\n",
        "* Сумму по всем осям\n",
        "* Среднее по 0 оси\n",
        "* Медиану по 1 оси"
      ],
      "id": "Kp3SvzHyxyPp"
    },
    {
      "cell_type": "code",
      "metadata": {
        "id": "5GcaTzGPx9Tk"
      },
      "source": [
        "v = np.random.randint(0, 9, size=(5, 7))"
      ],
      "id": "5GcaTzGPx9Tk",
      "execution_count": 5,
      "outputs": []
    },
    {
      "cell_type": "code",
      "metadata": {
        "colab": {
          "base_uri": "https://localhost:8080/"
        },
        "id": "FEoFcBJ-KwaM",
        "outputId": "3588a1c5-58cf-4b2e-89f8-a5a872487a52"
      },
      "source": [
        "v"
      ],
      "id": "FEoFcBJ-KwaM",
      "execution_count": 6,
      "outputs": [
        {
          "output_type": "execute_result",
          "data": {
            "text/plain": [
              "array([[4, 6, 1, 2, 8, 6, 8],\n",
              "       [8, 3, 4, 6, 1, 8, 7],\n",
              "       [0, 6, 4, 1, 1, 4, 6],\n",
              "       [7, 6, 1, 7, 5, 1, 4],\n",
              "       [7, 0, 7, 7, 1, 3, 1]])"
            ]
          },
          "metadata": {},
          "execution_count": 6
        }
      ]
    },
    {
      "cell_type": "code",
      "metadata": {
        "id": "iZT6E7esxsI1",
        "colab": {
          "base_uri": "https://localhost:8080/"
        },
        "outputId": "d90b7100-5932-4862-db9e-08952157c47a"
      },
      "source": [
        "# Ваш код\n",
        "maximum = v.max(axis = 1)\n",
        "minimum = v.min(axis = 0)\n",
        "summa = v.sum()\n",
        "mean = v.mean(axis = 0)\n",
        "median = np.median(v, axis = 1)\n",
        "\n",
        "print(\"Максимум по 1 оси: \", maximum) \n",
        "print(\"Минимум по 0 оси: \", minimum)\n",
        "print(\"Сумма по всем осям: \", summa)\n",
        "print(\"Среднее по 0 оси: \", mean)\n",
        "print(\"Медиана по 1 оси: \", median)"
      ],
      "id": "iZT6E7esxsI1",
      "execution_count": 7,
      "outputs": [
        {
          "output_type": "stream",
          "name": "stdout",
          "text": [
            "Максимум по 1 оси:  [8 8 6 7 7]\n",
            "Минимум по 0 оси:  [0 0 1 1 1 1 1]\n",
            "Сумма по всем осям:  151\n",
            "Среднее по 0 оси:  [5.2 4.2 3.4 4.6 3.2 4.4 5.2]\n",
            "Медиана по 1 оси:  [6. 6. 4. 5. 3.]\n"
          ]
        }
      ]
    },
    {
      "cell_type": "markdown",
      "metadata": {
        "id": "EiVqZFtpyOHm"
      },
      "source": [
        "Задание 6.\n",
        "\n",
        "Для всё того же вектора `v` выведите\n",
        "* Его shape\n",
        "* 0 компоненту его \"формы\"\n",
        "* 1 компоненту его \"формы\""
      ],
      "id": "EiVqZFtpyOHm"
    },
    {
      "cell_type": "code",
      "metadata": {
        "id": "AazCPchWyYGa",
        "colab": {
          "base_uri": "https://localhost:8080/"
        },
        "outputId": "7b4ec557-3da2-43ad-91f7-2e57dba84b9a"
      },
      "source": [
        "# Ваш код'\n",
        "print(v.shape)\n",
        "print(v.shape[0], v.shape[1])"
      ],
      "id": "AazCPchWyYGa",
      "execution_count": 8,
      "outputs": [
        {
          "output_type": "stream",
          "name": "stdout",
          "text": [
            "(5, 7)\n",
            "5 7\n"
          ]
        }
      ]
    },
    {
      "cell_type": "markdown",
      "metadata": {
        "id": "9bdU9sq1ygiF"
      },
      "source": [
        "Задание 7.\n",
        "\n",
        "Для этого же вектора выведите\n",
        "* Все числа больше 5\n",
        "* Все числа меньше 7 в обратном порядке\n",
        "* Все числа больше 3, которые делятся на 4 без остатка\n",
        "* Все числа, остаток от деления на 5 которых равен 3\n",
        "* Индекс максимума\n",
        "* Индекс минимума\n",
        "* Cписок с индексами элементов отсортированного массива в исходном (неотсортированном)"
      ],
      "id": "9bdU9sq1ygiF"
    },
    {
      "cell_type": "code",
      "metadata": {
        "id": "WW0nmIYwyfLA",
        "colab": {
          "base_uri": "https://localhost:8080/"
        },
        "outputId": "c8e2ff55-f840-48a7-d149-7dec07b01f46"
      },
      "source": [
        "# Ваш код\n",
        "print(v[v > 5])\n",
        "print(v[v < 7][::-1])\n",
        "print(v[(v > 3) & (v % 4 == 0)])\n",
        "print(v[(v % 5 == 3)])\n",
        "print(np.argmin(v))\n",
        "print(np.argmax(v))\n",
        "print(np.argsort(v, axis = None))"
      ],
      "id": "WW0nmIYwyfLA",
      "execution_count": 9,
      "outputs": [
        {
          "output_type": "stream",
          "name": "stdout",
          "text": [
            "[6 8 6 8 8 6 8 7 6 6 7 6 7 7 7 7]\n",
            "[1 3 1 0 4 1 5 1 6 6 4 1 1 4 6 0 1 6 4 3 6 2 1 6 4]\n",
            "[4 8 8 8 4 8 4 4 4]\n",
            "[8 8 8 3 8 3]\n",
            "14\n",
            "4\n",
            "[29 14 17 32 26 23 18 11 34  2  3  8 33  9 27 19  0 16 25  1 10 22 15 20\n",
            "  5 24 28 30 31 13 21  4 12  7  6]\n"
          ]
        }
      ]
    },
    {
      "cell_type": "markdown",
      "metadata": {
        "id": "pd7gVNl9zN-s"
      },
      "source": [
        "Задание 8.\n",
        "\n",
        "Выполните следующие операции над вектором (независимо, не обязательно делать это в последовательности):\n",
        "* Умножьте его на 3\n",
        "* Разделите на 7\n",
        "* Возведите в степень $\\frac{2}{3}$\n",
        "* Посчитайте $\\sin$ от него\n",
        "* Посчитайте $\\log$ от него"
      ],
      "id": "pd7gVNl9zN-s"
    },
    {
      "cell_type": "code",
      "metadata": {
        "id": "iTQeUeJ2zNkz",
        "colab": {
          "base_uri": "https://localhost:8080/"
        },
        "outputId": "73e8f301-8b8a-4896-9860-2f6658c759f2"
      },
      "source": [
        "# Ваш код\n",
        "print(v * 3)\n",
        "print('-' * 20)\n",
        "print(v / 7)\n",
        "print('-' * 20)\n",
        "print(np.power(v, 2/3))\n",
        "print('-' * 20)\n",
        "print(np.sin(v))\n",
        "print('-' * 20)\n",
        "print(np.log(v))"
      ],
      "id": "iTQeUeJ2zNkz",
      "execution_count": 10,
      "outputs": [
        {
          "output_type": "stream",
          "name": "stdout",
          "text": [
            "[[12 18  3  6 24 18 24]\n",
            " [24  9 12 18  3 24 21]\n",
            " [ 0 18 12  3  3 12 18]\n",
            " [21 18  3 21 15  3 12]\n",
            " [21  0 21 21  3  9  3]]\n",
            "--------------------\n",
            "[[0.57142857 0.85714286 0.14285714 0.28571429 1.14285714 0.85714286\n",
            "  1.14285714]\n",
            " [1.14285714 0.42857143 0.57142857 0.85714286 0.14285714 1.14285714\n",
            "  1.        ]\n",
            " [0.         0.85714286 0.57142857 0.14285714 0.14285714 0.57142857\n",
            "  0.85714286]\n",
            " [1.         0.85714286 0.14285714 1.         0.71428571 0.14285714\n",
            "  0.57142857]\n",
            " [1.         0.         1.         1.         0.14285714 0.42857143\n",
            "  0.14285714]]\n",
            "--------------------\n",
            "[[2.5198421  3.30192725 1.         1.58740105 4.         3.30192725\n",
            "  4.        ]\n",
            " [4.         2.08008382 2.5198421  3.30192725 1.         4.\n",
            "  3.65930571]\n",
            " [0.         3.30192725 2.5198421  1.         1.         2.5198421\n",
            "  3.30192725]\n",
            " [3.65930571 3.30192725 1.         3.65930571 2.92401774 1.\n",
            "  2.5198421 ]\n",
            " [3.65930571 0.         3.65930571 3.65930571 1.         2.08008382\n",
            "  1.        ]]\n",
            "--------------------\n",
            "[[-0.7568025  -0.2794155   0.84147098  0.90929743  0.98935825 -0.2794155\n",
            "   0.98935825]\n",
            " [ 0.98935825  0.14112001 -0.7568025  -0.2794155   0.84147098  0.98935825\n",
            "   0.6569866 ]\n",
            " [ 0.         -0.2794155  -0.7568025   0.84147098  0.84147098 -0.7568025\n",
            "  -0.2794155 ]\n",
            " [ 0.6569866  -0.2794155   0.84147098  0.6569866  -0.95892427  0.84147098\n",
            "  -0.7568025 ]\n",
            " [ 0.6569866   0.          0.6569866   0.6569866   0.84147098  0.14112001\n",
            "   0.84147098]]\n",
            "--------------------\n",
            "[[1.38629436 1.79175947 0.         0.69314718 2.07944154 1.79175947\n",
            "  2.07944154]\n",
            " [2.07944154 1.09861229 1.38629436 1.79175947 0.         2.07944154\n",
            "  1.94591015]\n",
            " [      -inf 1.79175947 1.38629436 0.         0.         1.38629436\n",
            "  1.79175947]\n",
            " [1.94591015 1.79175947 0.         1.94591015 1.60943791 0.\n",
            "  1.38629436]\n",
            " [1.94591015       -inf 1.94591015 1.94591015 0.         1.09861229\n",
            "  0.        ]]\n"
          ]
        }
      ]
    },
    {
      "cell_type": "markdown",
      "metadata": {
        "id": "Njvzyat9w9Jw"
      },
      "source": [
        "### Разные инициализации + индексирование (3 балла)"
      ],
      "id": "Njvzyat9w9Jw"
    },
    {
      "cell_type": "markdown",
      "metadata": {
        "id": "IXB2M-hrB1C5"
      },
      "source": [
        "Задание 9.\n",
        "\n",
        "Необходимо построить квадрат $3 \\times 3$ из нечётных чисел"
      ],
      "id": "IXB2M-hrB1C5"
    },
    {
      "cell_type": "code",
      "metadata": {
        "id": "0pnAlUNO8w1h",
        "colab": {
          "base_uri": "https://localhost:8080/"
        },
        "outputId": "82a67c69-58a1-44a6-fa9e-752340ef2055"
      },
      "source": [
        "# Ваш код\n",
        "np.arange(1, 19, 2).reshape((3, 3))"
      ],
      "id": "0pnAlUNO8w1h",
      "execution_count": 11,
      "outputs": [
        {
          "output_type": "execute_result",
          "data": {
            "text/plain": [
              "array([[ 1,  3,  5],\n",
              "       [ 7,  9, 11],\n",
              "       [13, 15, 17]])"
            ]
          },
          "metadata": {},
          "execution_count": 11
        }
      ]
    },
    {
      "cell_type": "markdown",
      "metadata": {
        "id": "HmlcbwtOB5OT"
      },
      "source": [
        "Задание 10.\n",
        "\n",
        "Необходимо построить квадрат $4 \\times 4$ из четных чисел в обратном порядке"
      ],
      "id": "HmlcbwtOB5OT"
    },
    {
      "cell_type": "code",
      "metadata": {
        "id": "W0lqLNBB81-U",
        "colab": {
          "base_uri": "https://localhost:8080/"
        },
        "outputId": "314a65eb-92bf-4a1d-897c-4df2720471fc"
      },
      "source": [
        "\n",
        "# Я считал ноль за чётное число\n",
        "np.arange(30, -1, -2).reshape((4, 4))"
      ],
      "id": "W0lqLNBB81-U",
      "execution_count": 12,
      "outputs": [
        {
          "output_type": "execute_result",
          "data": {
            "text/plain": [
              "array([[30, 28, 26, 24],\n",
              "       [22, 20, 18, 16],\n",
              "       [14, 12, 10,  8],\n",
              "       [ 6,  4,  2,  0]])"
            ]
          },
          "metadata": {},
          "execution_count": 12
        }
      ]
    },
    {
      "cell_type": "markdown",
      "metadata": {
        "id": "IeOvIqrFB8zI"
      },
      "source": [
        "Задание 11.\n",
        "\n",
        "Необходимо построить сетку координат $11 \\times 11$ с точкой $(0,0)$ в центре и шагом $0.1$ между клетками"
      ],
      "id": "IeOvIqrFB8zI"
    },
    {
      "cell_type": "code",
      "metadata": {
        "id": "gXTZFQzd84lY",
        "colab": {
          "base_uri": "https://localhost:8080/"
        },
        "outputId": "292dd762-58ad-4f41-c47b-1912c3e2b6c8"
      },
      "source": [
        "# Ваш код\n",
        "x = np.arange(-6, 6.1, 0.1).reshape((11, 11))\n",
        "\n",
        "# Выведем значение в центре\n",
        "print(round(x[5, 5], 5))"
      ],
      "id": "gXTZFQzd84lY",
      "execution_count": 13,
      "outputs": [
        {
          "output_type": "stream",
          "name": "stdout",
          "text": [
            "-0.0\n"
          ]
        }
      ]
    },
    {
      "cell_type": "markdown",
      "metadata": {
        "id": "BQD_BNN-CqCm"
      },
      "source": [
        "Задание 12.\n",
        "\n",
        "Замощение сетки $8\\times8$ при помощи $0$ и $1$ в шахматном порядке, клетка с индексом $(0,0)$ замощается $1$"
      ],
      "id": "BQD_BNN-CqCm"
    },
    {
      "cell_type": "code",
      "metadata": {
        "id": "whMdrRLx9G8Y",
        "colab": {
          "base_uri": "https://localhost:8080/"
        },
        "outputId": "bdccc769-269b-4d7f-e03a-629a8efd8a88"
      },
      "source": [
        "# Ваш код\n",
        "\n",
        "# Делаем сдвиг на 1, чтобы сделать размощение по заданию (индекс (0, 0) - сверху слева)\n",
        "np.apply_along_axis(lambda x: (x + x // 8 + 1) % 2, -1, np.arange(0, 64, 1)).reshape((8, 8))"
      ],
      "id": "whMdrRLx9G8Y",
      "execution_count": 14,
      "outputs": [
        {
          "output_type": "execute_result",
          "data": {
            "text/plain": [
              "array([[1, 0, 1, 0, 1, 0, 1, 0],\n",
              "       [0, 1, 0, 1, 0, 1, 0, 1],\n",
              "       [1, 0, 1, 0, 1, 0, 1, 0],\n",
              "       [0, 1, 0, 1, 0, 1, 0, 1],\n",
              "       [1, 0, 1, 0, 1, 0, 1, 0],\n",
              "       [0, 1, 0, 1, 0, 1, 0, 1],\n",
              "       [1, 0, 1, 0, 1, 0, 1, 0],\n",
              "       [0, 1, 0, 1, 0, 1, 0, 1]])"
            ]
          },
          "metadata": {},
          "execution_count": 14
        }
      ]
    },
    {
      "cell_type": "markdown",
      "metadata": {
        "id": "5tl1is5hCxH7"
      },
      "source": [
        "Задание 13.\n",
        "\n",
        "То же замощение, но клетка с индексом $(0,0)$ замощается $0$"
      ],
      "id": "5tl1is5hCxH7"
    },
    {
      "cell_type": "code",
      "metadata": {
        "id": "TP8Risy79TkG",
        "colab": {
          "base_uri": "https://localhost:8080/"
        },
        "outputId": "0707930a-ab40-444a-bd51-5c4faa550553"
      },
      "source": [
        "# Ваш код\n",
        "np.apply_along_axis(lambda x: (x + x // 8) % 2, -1, np.arange(0, 64, 1)).reshape((8, 8))"
      ],
      "id": "TP8Risy79TkG",
      "execution_count": 15,
      "outputs": [
        {
          "output_type": "execute_result",
          "data": {
            "text/plain": [
              "array([[0, 1, 0, 1, 0, 1, 0, 1],\n",
              "       [1, 0, 1, 0, 1, 0, 1, 0],\n",
              "       [0, 1, 0, 1, 0, 1, 0, 1],\n",
              "       [1, 0, 1, 0, 1, 0, 1, 0],\n",
              "       [0, 1, 0, 1, 0, 1, 0, 1],\n",
              "       [1, 0, 1, 0, 1, 0, 1, 0],\n",
              "       [0, 1, 0, 1, 0, 1, 0, 1],\n",
              "       [1, 0, 1, 0, 1, 0, 1, 0]])"
            ]
          },
          "metadata": {},
          "execution_count": 15
        }
      ]
    },
    {
      "cell_type": "markdown",
      "metadata": {
        "id": "xwut71HZC401"
      },
      "source": [
        "Задание 14.\n",
        "\n",
        "Необходимо построить нижне-треугольную матрицу переменного размера (задается передачей параметра в функцию). Это единичная матрица,замощённая $1$ под главной диагональю"
      ],
      "id": "xwut71HZC401"
    },
    {
      "cell_type": "code",
      "metadata": {
        "id": "f819Rv2uxDOz"
      },
      "source": [
        "# Ваш код\n",
        "def create_low_matrix(size):\n",
        "  return np.apply_along_axis(lambda x: (x % size <= x // size), -1, np.arange(0, size * size, 1)).\\\n",
        "                                                                                                  reshape((size, size)).\\\n",
        "                                                                                                  astype(int)"
      ],
      "id": "f819Rv2uxDOz",
      "execution_count": 16,
      "outputs": []
    },
    {
      "cell_type": "code",
      "metadata": {
        "colab": {
          "base_uri": "https://localhost:8080/"
        },
        "id": "eZgcXRseyKVc",
        "outputId": "9e0a2a76-eb02-43e4-ed7c-790ed3835949"
      },
      "source": [
        "create_low_matrix(5)"
      ],
      "id": "eZgcXRseyKVc",
      "execution_count": 17,
      "outputs": [
        {
          "output_type": "execute_result",
          "data": {
            "text/plain": [
              "array([[1, 0, 0, 0, 0],\n",
              "       [1, 1, 0, 0, 0],\n",
              "       [1, 1, 1, 0, 0],\n",
              "       [1, 1, 1, 1, 0],\n",
              "       [1, 1, 1, 1, 1]])"
            ]
          },
          "metadata": {},
          "execution_count": 17
        }
      ]
    },
    {
      "cell_type": "markdown",
      "metadata": {
        "id": "vhkgdaj3DGGr"
      },
      "source": [
        "Задание 15.\n",
        "\n",
        "Необходимо построить верхне-треугольную матрицу переменного размера. Это единичная матрица, замощённая $1$ над главной диагональю"
      ],
      "id": "vhkgdaj3DGGr"
    },
    {
      "cell_type": "code",
      "metadata": {
        "id": "bwsDUhYT9kP0"
      },
      "source": [
        "# Ваш код\n",
        "def create_high_matrix(size):\n",
        "  return create_low_matrix(size).T  #  ))))))))\n",
        "\n",
        "def create_high_matrix_1(size):\n",
        "    return np.apply_along_axis(lambda x: (x % size >= x // size), -1, np.arange(0, size * size, 1)).\\\n",
        "                                                                                                  reshape((size, size)).\\\n",
        "                                                                                                  astype(int)"
      ],
      "id": "bwsDUhYT9kP0",
      "execution_count": 18,
      "outputs": []
    },
    {
      "cell_type": "code",
      "metadata": {
        "colab": {
          "base_uri": "https://localhost:8080/"
        },
        "id": "xUJoHUyjypzw",
        "outputId": "0219e45e-2d88-48cb-e665-344e600ba953"
      },
      "source": [
        "create_high_matrix(5)"
      ],
      "id": "xUJoHUyjypzw",
      "execution_count": 19,
      "outputs": [
        {
          "output_type": "execute_result",
          "data": {
            "text/plain": [
              "array([[1, 1, 1, 1, 1],\n",
              "       [0, 1, 1, 1, 1],\n",
              "       [0, 0, 1, 1, 1],\n",
              "       [0, 0, 0, 1, 1],\n",
              "       [0, 0, 0, 0, 1]])"
            ]
          },
          "metadata": {},
          "execution_count": 19
        }
      ]
    },
    {
      "cell_type": "code",
      "metadata": {
        "colab": {
          "base_uri": "https://localhost:8080/"
        },
        "id": "keAoGVkcy2-g",
        "outputId": "4551d107-d167-442d-a6ca-d178993ebdcc"
      },
      "source": [
        "create_high_matrix_1(5)"
      ],
      "id": "keAoGVkcy2-g",
      "execution_count": 20,
      "outputs": [
        {
          "output_type": "execute_result",
          "data": {
            "text/plain": [
              "array([[1, 1, 1, 1, 1],\n",
              "       [0, 1, 1, 1, 1],\n",
              "       [0, 0, 1, 1, 1],\n",
              "       [0, 0, 0, 1, 1],\n",
              "       [0, 0, 0, 0, 1]])"
            ]
          },
          "metadata": {},
          "execution_count": 20
        }
      ]
    },
    {
      "cell_type": "markdown",
      "metadata": {
        "id": "L2HbqtTjDM1a"
      },
      "source": [
        "Задание 16.\n",
        "\n",
        "Необходимо построить матрицу, в которой единицы стоят на побочной диагонали (идущей из левого нижнего угла в правый верхний), в остальных местах стоят $0$"
      ],
      "id": "L2HbqtTjDM1a"
    },
    {
      "cell_type": "code",
      "metadata": {
        "id": "vM6ez-K69to2",
        "colab": {
          "base_uri": "https://localhost:8080/"
        },
        "outputId": "0a14dd87-b511-45e5-b711-7992d21fc460"
      },
      "source": [
        "# Ваш код\n",
        "def create_matr(size):\n",
        "  return np.rot90(np.eye(size)).astype(int)\n",
        "\n",
        "create_matr(5)"
      ],
      "id": "vM6ez-K69to2",
      "execution_count": 21,
      "outputs": [
        {
          "output_type": "execute_result",
          "data": {
            "text/plain": [
              "array([[0, 0, 0, 0, 1],\n",
              "       [0, 0, 0, 1, 0],\n",
              "       [0, 0, 1, 0, 0],\n",
              "       [0, 1, 0, 0, 0],\n",
              "       [1, 0, 0, 0, 0]])"
            ]
          },
          "metadata": {},
          "execution_count": 21
        }
      ]
    },
    {
      "cell_type": "markdown",
      "metadata": {
        "id": "xeL6jav0w0U-"
      },
      "source": [
        "### Операции + аггрегации (3 балла)"
      ],
      "id": "xeL6jav0w0U-"
    },
    {
      "cell_type": "markdown",
      "metadata": {
        "id": "vOPIAFopHUKs"
      },
      "source": [
        "Задание 17.\n",
        "\n",
        "Дана выборка $\\{X_i\\}$ некоторой случайной величины $X$, необходимо оценить\n",
        "* Математическое ожидание $E[X] = \\frac{1}{N}\\sum_{i=1}^N X_i$ этой случайной величины\n",
        "* Дисперсию $D[X] = \\frac{1}{N}\\sum_{i=1}^N (X_i - E[X])^2$ этой случайной величины"
      ],
      "id": "vOPIAFopHUKs"
    },
    {
      "cell_type": "code",
      "metadata": {
        "id": "uHQ-DiR4JB0p"
      },
      "source": [
        "def expected_value(x):\n",
        "    assert len(x) > 0\n",
        "    return sum(x) / len(x)\n",
        "\n",
        "\n",
        "def dispersion(x):\n",
        "    assert len(x) > 0\n",
        "    d = 0\n",
        "    e = expected_value(x)\n",
        "    for x_i in x:\n",
        "        d += (x_i - e) ** 2\n",
        "    return d / len(x)"
      ],
      "id": "uHQ-DiR4JB0p",
      "execution_count": 22,
      "outputs": []
    },
    {
      "cell_type": "code",
      "metadata": {
        "id": "XVFo8hitHSav"
      },
      "source": [
        "def expected_value_np(x):\n",
        "    return np.mean(x)"
      ],
      "id": "XVFo8hitHSav",
      "execution_count": 23,
      "outputs": []
    },
    {
      "cell_type": "code",
      "metadata": {
        "id": "f2jCC5EjJkl0"
      },
      "source": [
        "def dispersion_np(x):\n",
        "    return np.mean(np.power(x - np.mean(x), 2))"
      ],
      "id": "f2jCC5EjJkl0",
      "execution_count": 24,
      "outputs": []
    },
    {
      "cell_type": "code",
      "metadata": {
        "id": "dEGp_cuFJoX9"
      },
      "source": [
        "np.testing.assert_array_equal(expected_value([1]), expected_value_np(np.array([1])))\n",
        "np.testing.assert_array_equal(expected_value([3, 4]), expected_value_np(np.array([3, 4])))\n",
        "np.testing.assert_array_equal(expected_value([-1, 0, 1]), expected_value_np(np.array([-1, 0, 1])))\n",
        "np.testing.assert_array_equal(expected_value([-99, -98]), expected_value_np(np.array([-99, -98])))\n",
        "\n",
        "np.testing.assert_array_equal(dispersion([1]), dispersion_np(np.array([1])))\n",
        "np.testing.assert_array_equal(dispersion([3, 4]), dispersion_np(np.array([3, 4])))\n",
        "np.testing.assert_array_equal(dispersion([-1, 0, 1]), dispersion_np(np.array([-1, 0, 1])))\n",
        "np.testing.assert_array_equal(dispersion([-99, -98]), dispersion_np(np.array([-99, -98])))"
      ],
      "id": "dEGp_cuFJoX9",
      "execution_count": 25,
      "outputs": []
    },
    {
      "cell_type": "markdown",
      "metadata": {
        "id": "BO9aCDmYBf1R"
      },
      "source": [
        "Задание 18.\n",
        "\n",
        "Даны два вектора $y_1$ и $y_2$, нужно посчитать среднее арифметическое квадратов разностей их значений"
      ],
      "id": "BO9aCDmYBf1R"
    },
    {
      "cell_type": "code",
      "metadata": {
        "id": "5ZgYjfj5KW4g"
      },
      "source": [
        "def mean_square_difference(y1, y2):\n",
        "    assert len(y1) == len(y2) and len(y1) > 0\n",
        "    # Здесь и далее эти проверки !не нужно! дублировать в свои функции; Здесь они для того, чтобы лишний раз подчеркнуть валидность входных данных\n",
        "    s = 0\n",
        "    for i in range(len(y1)):\n",
        "        s += (y1[i] - y2[i]) ** 2\n",
        "    return s / len(y1)"
      ],
      "id": "5ZgYjfj5KW4g",
      "execution_count": 26,
      "outputs": []
    },
    {
      "cell_type": "code",
      "metadata": {
        "id": "r3kxTnLlw7dA"
      },
      "source": [
        "def mean_square_difference_np(y1, y2):\n",
        "    return np.mean(np.power((y1 - y2), 2))"
      ],
      "id": "r3kxTnLlw7dA",
      "execution_count": 27,
      "outputs": []
    },
    {
      "cell_type": "code",
      "metadata": {
        "id": "CVuNT_iRKrFM"
      },
      "source": [
        "assert mean_square_difference([1], [1]) == mean_square_difference_np(np.array([1]), np.array([1]))\n",
        "assert mean_square_difference([1, 2], [1, 2]) == mean_square_difference_np(np.array([1, 2]), np.array([1, 2]))\n",
        "assert mean_square_difference([-1, 1], [0, 0]) == mean_square_difference_np(np.array([-1, 1]), np.array([0, 0]))\n",
        "assert mean_square_difference([-3, -2, 0, 1, 4], [-2, -2, -1, -1, 5]) == mean_square_difference_np(np.array([-3, -2, 0, 1, 4]), np.array([-2, -2, -1, -1, 5]))"
      ],
      "id": "CVuNT_iRKrFM",
      "execution_count": 28,
      "outputs": []
    },
    {
      "cell_type": "markdown",
      "metadata": {
        "id": "FlYEqBJuBeX_"
      },
      "source": [
        "Задание 19.\n",
        "\n",
        "Даны два вектора $y_1$ и $y_2$, нужно посчитать среднее арифметическое модулей разностей их значений"
      ],
      "id": "FlYEqBJuBeX_"
    },
    {
      "cell_type": "code",
      "metadata": {
        "id": "YYFm_USNLR0g"
      },
      "source": [
        "def mean_abs_difference(y1, y2):\n",
        "    assert len(y1) == len(y2) and len(y1) > 0\n",
        "    s = 0\n",
        "    for i in range(len(y1)):\n",
        "        s += abs(y1[i] - y2[i])\n",
        "    return s / len(y1)"
      ],
      "id": "YYFm_USNLR0g",
      "execution_count": 29,
      "outputs": []
    },
    {
      "cell_type": "code",
      "metadata": {
        "id": "YND9wAXGLSrU"
      },
      "source": [
        "def mean_abs_difference_np(y1, y2):\n",
        "    return np.mean(np.abs(y1 - y2))"
      ],
      "id": "YND9wAXGLSrU",
      "execution_count": 30,
      "outputs": []
    },
    {
      "cell_type": "code",
      "metadata": {
        "id": "a6AVnlOp-N_E"
      },
      "source": [
        "assert mean_abs_difference([1], [1]) == mean_abs_difference_np(np.array([1]), np.array([1]))\n",
        "assert mean_abs_difference([1, 2], [1, 2]) == mean_abs_difference_np(np.array([1, 2]), np.array([1, 2]))\n",
        "assert mean_abs_difference([-1, 1], [0, 0]) == mean_abs_difference_np(np.array([-1, 1]), np.array([0, 0]))\n",
        "assert mean_abs_difference([-3, -2, 0, 1, 4], [-2, -2, -1, -1, 5]) == mean_abs_difference_np(np.array([-3, -2, 0, 1, 4]), np.array([-2, -2, -1, -1, 5]))"
      ],
      "id": "a6AVnlOp-N_E",
      "execution_count": 31,
      "outputs": []
    },
    {
      "cell_type": "markdown",
      "metadata": {
        "id": "MCJcY2TDBVX2"
      },
      "source": [
        "Задание 20.\n",
        "\n",
        "Даны два вектора $y_1$ и $y_2$, в которых присутствуют только $0$ и $1$. Необходимо посчитать вероятность совпадения - в скольких точках значения двух векторов совпадают"
      ],
      "id": "MCJcY2TDBVX2"
    },
    {
      "cell_type": "code",
      "metadata": {
        "id": "MFRHNu3RLdAM"
      },
      "source": [
        "def matching_proba(y1, y2):\n",
        "    assert len(y1) == len(y2) and len(y1) > 0\n",
        "    assert len(set(y1)) <= 2\n",
        "    assert len(set(y2)) <= 2\n",
        "    assert 0 in set(y1) or 1 in set(y1) or (0 in set(y1) and 1 in set(y1))\n",
        "    assert 0 in set(y2) or 1 in set(y2) or (0 in set(y2) and 1 in set(y2))\n",
        "\n",
        "    return sum([y1[i] == y2[i] for i in range(len(y1))]) / len(y1)"
      ],
      "id": "MFRHNu3RLdAM",
      "execution_count": 32,
      "outputs": []
    },
    {
      "cell_type": "code",
      "metadata": {
        "id": "C48P4bQBMnZQ"
      },
      "source": [
        "def matching_proba_np(y1, y2):\n",
        "    return np.sum((y1 == y2).astype(int)) / y1.shape[0]"
      ],
      "id": "C48P4bQBMnZQ",
      "execution_count": 33,
      "outputs": []
    },
    {
      "cell_type": "code",
      "metadata": {
        "id": "-DDiBxPEMZwu"
      },
      "source": [
        "np.testing.assert_array_equal(matching_proba([0, 1], [1, 0]), matching_proba_np(np.array([0, 1]), np.array([1, 0])))\n",
        "np.testing.assert_array_equal(matching_proba([0, 1, 0, 1], [0, 0, 1, 1]), matching_proba_np(np.array([0, 1, 0, 1]), np.array([0, 0, 1, 1])))\n",
        "np.testing.assert_array_equal(matching_proba([0, 0, 1, 1], [0, 0, 1, 1]), matching_proba_np(np.array([0, 0, 1, 1]), np.array([0, 0, 1, 1])))"
      ],
      "id": "-DDiBxPEMZwu",
      "execution_count": 34,
      "outputs": []
    },
    {
      "cell_type": "markdown",
      "metadata": {
        "id": "F_a98XRF_WnS"
      },
      "source": [
        "Задание 21.\n",
        "\n",
        "Даны два вектора: $y_1$, $y_2$. В $y_1$ и $y_2$ присутствуют только $0$ и $1$.\n",
        "\n",
        "* Необходимо найти границы (индексы), такие, что если мы разделим какой-то из них оба вектора, то в левой части пересекающихся в $y_1$ и $y_2$ нулей будет больше, чем единиц, а в правой - наоборот. Если какая-то из частей не содержит элементов вовсе, то будем считать, что она подходит под условие."
      ],
      "id": "F_a98XRF_WnS"
    },
    {
      "cell_type": "code",
      "metadata": {
        "id": "b6FUo3G_NDge"
      },
      "source": [
        "def find_thresholds(y1, y2, debug=False):\n",
        "    assert len(y1) == len(y2) and len(y1) > 0\n",
        "    n = len(y1)\n",
        "    matching_zeros = [1 if y1[i] == y2[i] == 0 else 0 for i in range(n)]\n",
        "    matching_ones = [1 if y1[i] == y2[i] == 1 else 0 for i in range(n)]\n",
        "    res = []\n",
        "    if sum(matching_ones) / n > 0.5:\n",
        "        res.append(0)\n",
        "    for i in range(1, n):\n",
        "        if debug: # если вам непонятна логика работы этой функции, передайте третьим аргументом True\n",
        "            print(matching_zeros[:i], matching_ones[i:], i)\n",
        "        if sum(matching_zeros[:i]) / i > 0.5 and sum(matching_ones[i:]) / (n - i) > 0.5:\n",
        "            res.append(i)\n",
        "    if sum(matching_zeros) / n > 0.5:\n",
        "        res.append(n)\n",
        "    return res"
      ],
      "id": "b6FUo3G_NDge",
      "execution_count": 35,
      "outputs": []
    },
    {
      "cell_type": "code",
      "metadata": {
        "id": "aD34QrPrReVK"
      },
      "source": [
        "'''\n",
        "1. Решения, реализованные обычными средствами, не соответствуют условию\n",
        "   Поэтому реализация на numpy скорее не выполняет задачу, а выполняет действия для того же ответа, что и в обычной реализации\n",
        "   Внизу через ячейку я приложил функцию, которая действительно решает задачу по условию.\n",
        "2. Посмотреть на бумаге, как это работает, и почему можно на github/prianechka\n",
        "\n",
        "По решению:\n",
        "3. Если сложить два массива, то в результирующем массиве можно понять, что:\n",
        "   если элемент == 2 -> совпало по единицам\n",
        "   если элемент == 0 -> совпало по нулям\n",
        "   если элемент == 1 -> не совпало\n",
        "  \n",
        "4. Формализация задачи сводится к тому, чтобы посчитать количество двоек и нулей по каждой стороне\n",
        "   и для каждого разбиения посмотреть, где вероятность нуля слева от разбиения > 0.5 (реализация на обычном именно такая, но это не соответствует условию)\n",
        "   и вероятность двойки справа от разбиения тоже > 0.5 \n",
        "   \n",
        "'''\n",
        "def find_thresholds_np(y1, y2):\n",
        "  # Разбиений у нас может быть N + 1, где N - размер массива\n",
        "  result = np.arange(y1.shape[0] + 1)\n",
        "\n",
        "  arr = y1 + y2\n",
        "  arr_0 = (arr == 0).astype(int)\n",
        "  arr_2 = (arr == 2).astype(int)\n",
        "\n",
        "  N0 = arr_0.sum()\n",
        "  N2 = arr_2.sum()\n",
        "\n",
        "  arr_1 = np.cumsum(arr_0)\n",
        "  arr_2 = np.cumsum(arr_2)\n",
        "  arr_4 = N2 - arr_2\n",
        "\n",
        "  arr_zeros = np.hstack((np.array([0]), arr_1))\n",
        "  arr_ones = np.hstack((np.array([N2]), arr_4))\n",
        "\n",
        "  arr_prob_1 = np.nan_to_num((arr_ones / result[::-1]), nan=1)\n",
        "  arr_prob_0 = np.nan_to_num((arr_zeros / result), nan=1)\n",
        "\n",
        "  return result[(arr_prob_1 > 0.5) & (arr_prob_0 > 0.5)]"
      ],
      "id": "aD34QrPrReVK",
      "execution_count": 36,
      "outputs": []
    },
    {
      "cell_type": "code",
      "metadata": {
        "id": "fjnZ8YImV5jj"
      },
      "source": [
        "def right_decision_np(y1, y2):\n",
        "  # Разбиений у нас может быть N + 1, где N - размер массива\n",
        "  result = np.arange(y1.shape[0] + 1)\n",
        "\n",
        "  arr = y1 + y2\n",
        "  arr_0 = (arr == 0).astype(int)\n",
        "  arr_2 = (arr == 2).astype(int)\n",
        "\n",
        "  N0 = arr_0.sum()\n",
        "  N2 = arr_2.sum()\n",
        "\n",
        "  arr_1 = np.cumsum(arr_0)\n",
        "  arr_2 = np.cumsum(arr_2)\n",
        "  arr_3 = N0 - arr_1\n",
        "  arr_4 = N2 - arr_2\n",
        "\n",
        "  arr_zeros = np.hstack((np.array([0]), arr_1))\n",
        "  arr_ones = np.hstack((np.array([N2]), arr_4))\n",
        "\n",
        "  return result[(arr_1 > arr_2) & (arr_4 > arr_3)]"
      ],
      "id": "fjnZ8YImV5jj",
      "execution_count": 37,
      "outputs": []
    },
    {
      "cell_type": "code",
      "metadata": {
        "id": "oSSMaAp3PT-R"
      },
      "source": [
        "np.testing.assert_array_equal(find_thresholds([0], [0]), find_thresholds_np(np.array([0]), np.array([0])))\n",
        "np.testing.assert_array_equal(find_thresholds([1], [1]), find_thresholds_np(np.array([1]), np.array([1])))\n",
        "np.testing.assert_array_equal(\n",
        "    find_thresholds([0, 0, 1, 1], [0, 0, 1, 1]), \n",
        "    find_thresholds_np(np.array([0, 0, 1, 1]), np.array([0, 0, 1, 1]))\n",
        ")\n",
        "np.testing.assert_array_equal(\n",
        "    find_thresholds([0, 0, 1, 0, 0, 1, 1, 1], [0, 0, 0, 0, 0, 1, 1, 1]),\n",
        "    find_thresholds_np(np.array([0, 0, 1, 0, 0, 1, 1, 1]), np.array([0, 0, 0, 0, 0, 1, 1, 1]))\n",
        ")"
      ],
      "id": "oSSMaAp3PT-R",
      "execution_count": 38,
      "outputs": []
    },
    {
      "cell_type": "markdown",
      "metadata": {
        "id": "QzL-JrqmxD8s"
      },
      "source": [
        "### Разные действия с матрицами (3 балла)"
      ],
      "id": "QzL-JrqmxD8s"
    },
    {
      "cell_type": "markdown",
      "metadata": {
        "id": "8cRkht0DTyJm"
      },
      "source": [
        "Задание 22.\n",
        "\n",
        "Дана матрица размера $(32, 3, 16, 16)$, заполненная случайными числами от 0 до 9. При помощи **ровно пяти** преобразований приведите её к виду $(32, 1)$. При выполнении задания **можно** создавать вспомогательные матрицы!"
      ],
      "id": "8cRkht0DTyJm"
    },
    {
      "cell_type": "code",
      "metadata": {
        "id": "XiBftUkYUJHx",
        "colab": {
          "base_uri": "https://localhost:8080/"
        },
        "outputId": "6d584337-4bb2-4315-93f1-0f7967672ed6"
      },
      "source": [
        "data = np.random.randint(0, 10, size=(32, 3, 16, 16))\n",
        "\n",
        "# (∩｀-´)⊃━☆ﾟ.*･｡ﾟ\n",
        "# Преобразование 1\n",
        "k1 = np.random.randint(0, 10, size=(16))\n",
        "# Преобразование 2\n",
        "data = np.matmul(data, k1)\n",
        "# Преобразование 3\n",
        "data = np.matmul(data, k1)\n",
        "# Преобразование 4\n",
        "k2 = np.random.randint(0, 10, size=(3, 1))\n",
        "# Преобразование 5\n",
        "data = np.matmul(data, k2)\n",
        "\n",
        "print(data.shape)\n",
        "\n",
        "assert data.shape == (32, 1)"
      ],
      "id": "XiBftUkYUJHx",
      "execution_count": 39,
      "outputs": [
        {
          "output_type": "stream",
          "name": "stdout",
          "text": [
            "(32, 1)\n"
          ]
        }
      ]
    },
    {
      "cell_type": "markdown",
      "metadata": {
        "id": "BlZrnx1TU3Oe"
      },
      "source": [
        "Задание 23.\n",
        "\n",
        "Даны две матрицы $m_1$ размером $(32, 256)$ и $m_2$ размером $(32, 512)$, а также две вспомогательные матрицы $W_1$ размером $(256, 32)$ и $W_2$ размером $(512, 16)$. Используя все данные матрицы, сделайте так, чтобы на выходе получилась **ровно одна** матрица размером $(32, 32)$"
      ],
      "id": "BlZrnx1TU3Oe"
    },
    {
      "cell_type": "code",
      "metadata": {
        "id": "XiQOLjOgxENb",
        "colab": {
          "base_uri": "https://localhost:8080/"
        },
        "outputId": "335c8ecd-28c2-4918-d8c9-61c5cae068f8"
      },
      "source": [
        "m1 = np.random.randint(0, 10, size=(32, 256))\n",
        "m2 = np.random.randint(0, 10, size=(32, 512))\n",
        "W1 = np.random.randint(0, 10, size=(256, 32))\n",
        "W2 = np.random.randint(0, 10, size=(512, 16))\n",
        "\n",
        "\n",
        "temp1 = np.matmul(m1, W1)\n",
        "temp2 = np.matmul(W2.T, m2.T)\n",
        "temp3 = np.matmul(m2, W2)\n",
        "result = np.matmul(temp1, np.matmul(temp3, temp2))\n",
        "# result = (m1.dot(W1)).dot(m2.dot(W2).dot((W2.T.dot(m2.T))))\n",
        "print(result.shape)\n",
        "\n",
        "assert result.shape == (32, 32)"
      ],
      "id": "XiQOLjOgxENb",
      "execution_count": 40,
      "outputs": [
        {
          "output_type": "stream",
          "name": "stdout",
          "text": [
            "(32, 32)\n"
          ]
        }
      ]
    },
    {
      "cell_type": "markdown",
      "metadata": {
        "id": "dGTtWMlOWSyr"
      },
      "source": [
        "Задание 24.\n",
        "\n",
        "Последнее испытание для юного мага матриц - приведите полученную на последнем шаге матрицу к виду $(32, 3)$ и сделайте так, чтобы все значения в этой матрице были в промежутке от $0$ до $1$"
      ],
      "id": "dGTtWMlOWSyr"
    },
    {
      "cell_type": "code",
      "metadata": {
        "id": "JM1Ngv6oWSZE",
        "colab": {
          "base_uri": "https://localhost:8080/"
        },
        "outputId": "1d603dff-a56b-43cf-9764-9b40059c5d60"
      },
      "source": [
        "'''\n",
        "Не понял, какие матрицы использовать, поэтому два варианта: \n",
        "1. подсчитал просто статистику, сделал из неё матрицу (потом надо её транспонировать)\n",
        "2. создал матрицу из единиц размером (32, 3) и умножил\n",
        "и потом применил min-max scale.\n",
        "'''\n",
        "\n",
        "# result = np.vstack((result.min(axis = 0), result.max(axis = 0), result.mean(axis = 0)))\n",
        "# result = np.transpose(result)\n",
        "\n",
        "result = np.matmul(result, np.ones(shape=(32, 3)))\n",
        "result = (result - result.min()) / (result.max() - result.min())\n",
        "print(result.shape)\n",
        "\n",
        "assert ((result >= 0) & (result <= 1)).all()"
      ],
      "id": "JM1Ngv6oWSZE",
      "execution_count": 41,
      "outputs": [
        {
          "output_type": "stream",
          "name": "stdout",
          "text": [
            "(32, 3)\n"
          ]
        }
      ]
    },
    {
      "cell_type": "code",
      "metadata": {
        "id": "AxtxXZQ2Xedz"
      },
      "source": [
        ""
      ],
      "id": "AxtxXZQ2Xedz",
      "execution_count": 41,
      "outputs": []
    }
  ]
}